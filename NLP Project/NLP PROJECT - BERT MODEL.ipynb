{
 "cells": [
  {
   "cell_type": "markdown",
   "metadata": {},
   "source": [
    "## BERT MODEL"
   ]
  },
  {
   "cell_type": "code",
   "execution_count": 5,
   "metadata": {
    "ExecuteTime": {
     "end_time": "2019-11-29T20:41:50.319162Z",
     "start_time": "2019-11-29T20:41:47.801844Z"
    }
   },
   "outputs": [
    {
     "name": "stderr",
     "output_type": "stream",
     "text": [
      "Using TensorFlow backend.\n"
     ]
    }
   ],
   "source": [
    "from sklearn import model_selection, preprocessing, linear_model, naive_bayes, metrics, svm\n",
    "from sklearn.feature_extraction.text import TfidfVectorizer, CountVectorizer\n",
    "from sklearn import decomposition, ensemble\n",
    "from sklearn.linear_model import Ridge, Lasso\n",
    "from sklearn.utils import resample\n",
    "import pandas as pd\n",
    "import xgboost\n",
    "import numpy as np \n",
    "import nltk\n",
    "import gensim \n",
    "from gensim.models import Word2Vec\n",
    "from keras.preprocessing.text import text_to_word_sequence\n",
    "import string\n",
    "from nltk import word_tokenize\n",
    "from keras.preprocessing import text, sequence\n",
    "from keras import layers, models, optimizers"
   ]
  },
  {
   "cell_type": "markdown",
   "metadata": {},
   "source": [
    "Read Dataset"
   ]
  },
  {
   "cell_type": "code",
   "execution_count": 6,
   "metadata": {
    "ExecuteTime": {
     "end_time": "2019-11-29T22:15:25.846570Z",
     "start_time": "2019-11-29T22:11:30.245410Z"
    }
   },
   "outputs": [
    {
     "data": {
      "text/plain": [
       "0    3108\n",
       "1    1892\n",
       "Name: is_duplicate, dtype: int64"
      ]
     },
     "execution_count": 6,
     "metadata": {},
     "output_type": "execute_result"
    }
   ],
   "source": [
    "nn = pd.read_excel('C:\\\\Users\\\\bshukla\\\\baseline.xlsx')\n",
    "nn['tokens'] = nn['q1_q2'].apply(word_tokenize) \n",
    "nn = nn.astype(str)\n",
    "nn = nn.sample(n = 5000, random_state=1) \n",
    "nn\n",
    "nn.is_duplicate.value_counts()"
   ]
  },
  {
   "cell_type": "markdown",
   "metadata": {},
   "source": [
    "BALANCE DATASET"
   ]
  },
  {
   "cell_type": "code",
   "execution_count": 7,
   "metadata": {
    "ExecuteTime": {
     "end_time": "2019-11-29T22:16:19.330072Z",
     "start_time": "2019-11-29T22:16:19.289817Z"
    }
   },
   "outputs": [
    {
     "data": {
      "text/plain": [
       "0    1892\n",
       "1    1892\n",
       "Name: is_duplicate, dtype: int64"
      ]
     },
     "execution_count": 7,
     "metadata": {},
     "output_type": "execute_result"
    }
   ],
   "source": [
    "nnn_majority = nn[nn.is_duplicate=='0']\n",
    "nnn_minority = nn[nn.is_duplicate=='1']\n",
    "\n",
    "\n",
    "nnn_minority\n",
    "df_majority_downsampled = resample(nnn_majority, \n",
    "                                 replace=False,    # sample without replacement\n",
    "                                 n_samples=1892,     # to match minority class\n",
    "                                 random_state=123) # reproducible results\n",
    "nn = pd.concat([df_majority_downsampled, nnn_minority])\n",
    "\n",
    "nn.is_duplicate.value_counts()"
   ]
  },
  {
   "cell_type": "code",
   "execution_count": 8,
   "metadata": {
    "ExecuteTime": {
     "end_time": "2019-11-29T22:16:21.195161Z",
     "start_time": "2019-11-29T22:16:21.186400Z"
    }
   },
   "outputs": [
    {
     "data": {
      "text/plain": [
       "0    1892\n",
       "1    1892\n",
       "Name: is_duplicate, dtype: int64"
      ]
     },
     "execution_count": 8,
     "metadata": {},
     "output_type": "execute_result"
    }
   ],
   "source": [
    "nn['is_duplicate'].value_counts()"
   ]
  },
  {
   "cell_type": "code",
   "execution_count": 12,
   "metadata": {
    "ExecuteTime": {
     "end_time": "2019-11-29T22:16:22.382264Z",
     "start_time": "2019-11-29T22:16:22.371247Z"
    },
    "scrolled": true
   },
   "outputs": [
    {
     "data": {
      "text/plain": [
       "0    1892\n",
       "1    1892\n",
       "Name: is_duplicate, dtype: int64"
      ]
     },
     "execution_count": 12,
     "metadata": {},
     "output_type": "execute_result"
    }
   ],
   "source": [
    "from simpletransformers.classification import MultiLabelClassificationModel\n",
    "\n",
    "df = nn[[\"q1_q2\",\"is_duplicate\"]]\n",
    "df['is_duplicate'].value_counts()"
   ]
  },
  {
   "cell_type": "code",
   "execution_count": 13,
   "metadata": {
    "ExecuteTime": {
     "end_time": "2019-11-29T22:16:23.352435Z",
     "start_time": "2019-11-29T22:16:23.338791Z"
    }
   },
   "outputs": [
    {
     "data": {
      "text/html": [
       "<div>\n",
       "<style scoped>\n",
       "    .dataframe tbody tr th:only-of-type {\n",
       "        vertical-align: middle;\n",
       "    }\n",
       "\n",
       "    .dataframe tbody tr th {\n",
       "        vertical-align: top;\n",
       "    }\n",
       "\n",
       "    .dataframe thead th {\n",
       "        text-align: right;\n",
       "    }\n",
       "</style>\n",
       "<table border=\"1\" class=\"dataframe\">\n",
       "  <thead>\n",
       "    <tr style=\"text-align: right;\">\n",
       "      <th></th>\n",
       "      <th>q1_q2</th>\n",
       "      <th>is_duplicate</th>\n",
       "    </tr>\n",
       "  </thead>\n",
       "  <tbody>\n",
       "    <tr>\n",
       "      <td>331007</td>\n",
       "      <td>mr robot tv series is mr robot a good represen...</td>\n",
       "      <td>0</td>\n",
       "    </tr>\n",
       "    <tr>\n",
       "      <td>190780</td>\n",
       "      <td>what were the most famous sportsgames in india...</td>\n",
       "      <td>0</td>\n",
       "    </tr>\n",
       "    <tr>\n",
       "      <td>244480</td>\n",
       "      <td>how do i stop a redirecting virus on android i...</td>\n",
       "      <td>0</td>\n",
       "    </tr>\n",
       "    <tr>\n",
       "      <td>139526</td>\n",
       "      <td>how can i make curly hair grow faster and long...</td>\n",
       "      <td>0</td>\n",
       "    </tr>\n",
       "    <tr>\n",
       "      <td>264734</td>\n",
       "      <td>what does this joke meanwhat is the meaning of...</td>\n",
       "      <td>0</td>\n",
       "    </tr>\n",
       "    <tr>\n",
       "      <td>...</td>\n",
       "      <td>...</td>\n",
       "      <td>...</td>\n",
       "    </tr>\n",
       "    <tr>\n",
       "      <td>394683</td>\n",
       "      <td>what does it take to be a car salesmanhow do y...</td>\n",
       "      <td>1</td>\n",
       "    </tr>\n",
       "    <tr>\n",
       "      <td>390605</td>\n",
       "      <td>why do tall guys love short girlsis it true th...</td>\n",
       "      <td>1</td>\n",
       "    </tr>\n",
       "    <tr>\n",
       "      <td>249757</td>\n",
       "      <td>why do people believe in conspiracy theorieswh...</td>\n",
       "      <td>1</td>\n",
       "    </tr>\n",
       "    <tr>\n",
       "      <td>144779</td>\n",
       "      <td>which universities in canada offer diploma in ...</td>\n",
       "      <td>1</td>\n",
       "    </tr>\n",
       "    <tr>\n",
       "      <td>35444</td>\n",
       "      <td>how can i hack the others facebook accountis t...</td>\n",
       "      <td>1</td>\n",
       "    </tr>\n",
       "  </tbody>\n",
       "</table>\n",
       "<p>3784 rows × 2 columns</p>\n",
       "</div>"
      ],
      "text/plain": [
       "                                                    q1_q2 is_duplicate\n",
       "331007  mr robot tv series is mr robot a good represen...            0\n",
       "190780  what were the most famous sportsgames in india...            0\n",
       "244480  how do i stop a redirecting virus on android i...            0\n",
       "139526  how can i make curly hair grow faster and long...            0\n",
       "264734  what does this joke meanwhat is the meaning of...            0\n",
       "...                                                   ...          ...\n",
       "394683  what does it take to be a car salesmanhow do y...            1\n",
       "390605  why do tall guys love short girlsis it true th...            1\n",
       "249757  why do people believe in conspiracy theorieswh...            1\n",
       "144779  which universities in canada offer diploma in ...            1\n",
       "35444   how can i hack the others facebook accountis t...            1\n",
       "\n",
       "[3784 rows x 2 columns]"
      ]
     },
     "execution_count": 13,
     "metadata": {},
     "output_type": "execute_result"
    }
   ],
   "source": [
    "from sklearn.model_selection import train_test_split\n",
    "df"
   ]
  },
  {
   "cell_type": "markdown",
   "metadata": {},
   "source": [
    "SPLIT INTO TRAIN & VALIDATION"
   ]
  },
  {
   "cell_type": "code",
   "execution_count": 23,
   "metadata": {
    "ExecuteTime": {
     "end_time": "2019-11-29T22:16:24.816488Z",
     "start_time": "2019-11-29T22:16:24.775377Z"
    }
   },
   "outputs": [
    {
     "name": "stderr",
     "output_type": "stream",
     "text": [
      "C:\\Users\\bshukla\\AppData\\Local\\Continuum\\anaconda3\\lib\\site-packages\\ipykernel_launcher.py:9: SettingWithCopyWarning: \n",
      "A value is trying to be set on a copy of a slice from a DataFrame.\n",
      "Try using .loc[row_indexer,col_indexer] = value instead\n",
      "\n",
      "See the caveats in the documentation: http://pandas.pydata.org/pandas-docs/stable/user_guide/indexing.html#returning-a-view-versus-a-copy\n",
      "  if __name__ == '__main__':\n",
      "C:\\Users\\bshukla\\AppData\\Local\\Continuum\\anaconda3\\lib\\site-packages\\ipykernel_launcher.py:10: SettingWithCopyWarning: \n",
      "A value is trying to be set on a copy of a slice from a DataFrame.\n",
      "Try using .loc[row_indexer,col_indexer] = value instead\n",
      "\n",
      "See the caveats in the documentation: http://pandas.pydata.org/pandas-docs/stable/user_guide/indexing.html#returning-a-view-versus-a-copy\n",
      "  # Remove the CWD from sys.path while we load stuff.\n"
     ]
    },
    {
     "data": {
      "text/plain": [
       "q1_q2           object\n",
       "is_duplicate     int64\n",
       "dtype: object"
      ]
     },
     "execution_count": 23,
     "metadata": {},
     "output_type": "execute_result"
    }
   ],
   "source": [
    "df\n",
    "\n",
    "train, test = train_test_split(df, test_size=0.5, stratify = df['is_duplicate'])\n",
    "\n",
    "\n",
    "train['q1_q2'].apply(str)\n",
    "test['q1_q2'].apply(str)\n",
    "\n",
    "train[\"is_duplicate\"] = pd.to_numeric(train[\"is_duplicate\"])\n",
    "test[\"is_duplicate\"] = pd.to_numeric(test[\"is_duplicate\"])\n",
    "\n",
    "test.dtypes"
   ]
  },
  {
   "cell_type": "markdown",
   "metadata": {},
   "source": [
    "BERT MODEL IMPLEMENTATION"
   ]
  },
  {
   "cell_type": "code",
   "execution_count": 15,
   "metadata": {
    "ExecuteTime": {
     "end_time": "2019-11-29T23:46:31.433327Z",
     "start_time": "2019-11-29T22:16:26.004410Z"
    }
   },
   "outputs": [],
   "source": [
    "from simpletransformers.classification import ClassificationModel"
   ]
  },
  {
   "cell_type": "code",
   "execution_count": 18,
   "metadata": {
    "ExecuteTime": {
     "end_time": "2019-11-29T21:07:29.159551Z",
     "start_time": "2019-11-29T20:53:21.673582Z"
    }
   },
   "outputs": [
    {
     "name": "stdout",
     "output_type": "stream",
     "text": [
      "Converting to features started.\n"
     ]
    },
    {
     "data": {
      "application/vnd.jupyter.widget-view+json": {
       "model_id": "abe381fed11b49c4a97cd5a6b7bb253f",
       "version_major": 2,
       "version_minor": 0
      },
      "text/plain": [
       "HBox(children=(IntProgress(value=0, max=1892), HTML(value='')))"
      ]
     },
     "metadata": {},
     "output_type": "display_data"
    },
    {
     "name": "stdout",
     "output_type": "stream",
     "text": [
      "\n"
     ]
    },
    {
     "data": {
      "application/vnd.jupyter.widget-view+json": {
       "model_id": "5f00abf7caa741eebc92993b2270f745",
       "version_major": 2,
       "version_minor": 0
      },
      "text/plain": [
       "HBox(children=(IntProgress(value=0, description='Epoch', max=3, style=ProgressStyle(description_width='initial…"
      ]
     },
     "metadata": {},
     "output_type": "display_data"
    },
    {
     "data": {
      "application/vnd.jupyter.widget-view+json": {
       "model_id": "9cbd0624d2d2434ba7b43bd9f5e553a2",
       "version_major": 2,
       "version_minor": 0
      },
      "text/plain": [
       "HBox(children=(IntProgress(value=0, description='Current iteration', max=237, style=ProgressStyle(description_…"
      ]
     },
     "metadata": {},
     "output_type": "display_data"
    },
    {
     "name": "stdout",
     "output_type": "stream",
     "text": [
      "Running loss: 0.491029\n"
     ]
    },
    {
     "data": {
      "application/vnd.jupyter.widget-view+json": {
       "model_id": "6fe43a3caab64da3bb275e39ce27e262",
       "version_major": 2,
       "version_minor": 0
      },
      "text/plain": [
       "HBox(children=(IntProgress(value=0, description='Current iteration', max=237, style=ProgressStyle(description_…"
      ]
     },
     "metadata": {},
     "output_type": "display_data"
    },
    {
     "name": "stdout",
     "output_type": "stream",
     "text": [
      "Running loss: 0.096694\n"
     ]
    },
    {
     "data": {
      "application/vnd.jupyter.widget-view+json": {
       "model_id": "a078573df8b4456fa1943f4ab89065bf",
       "version_major": 2,
       "version_minor": 0
      },
      "text/plain": [
       "HBox(children=(IntProgress(value=0, description='Current iteration', max=237, style=ProgressStyle(description_…"
      ]
     },
     "metadata": {},
     "output_type": "display_data"
    },
    {
     "name": "stdout",
     "output_type": "stream",
     "text": [
      "Running loss: 0.020732\n",
      "\n",
      "Training of bert model complete. Saved to outputs/.\n",
      "Converting to features started.\n"
     ]
    },
    {
     "data": {
      "application/vnd.jupyter.widget-view+json": {
       "model_id": "8d746aa6459140178cd49af06c24e3a2",
       "version_major": 2,
       "version_minor": 0
      },
      "text/plain": [
       "HBox(children=(IntProgress(value=0, max=1892), HTML(value='')))"
      ]
     },
     "metadata": {},
     "output_type": "display_data"
    },
    {
     "name": "stdout",
     "output_type": "stream",
     "text": [
      "\n"
     ]
    },
    {
     "data": {
      "application/vnd.jupyter.widget-view+json": {
       "model_id": "2cff8867f7784999a278fe85d3557238",
       "version_major": 2,
       "version_minor": 0
      },
      "text/plain": [
       "HBox(children=(IntProgress(value=0, max=237), HTML(value='')))"
      ]
     },
     "metadata": {},
     "output_type": "display_data"
    },
    {
     "name": "stdout",
     "output_type": "stream",
     "text": [
      "\n"
     ]
    }
   ],
   "source": [
    "modeltwo = ClassificationModel('bert', 'bert-base-uncased', use_cuda = False, args = {'overwrite_output_dir': True, 'num_train_epochs': 3})\n",
    "modeltwo.train_model(train)\n",
    "resulttwo, modeltwo_outputs, wrong_predictions = modeltwo.eval_model(test)"
   ]
  },
  {
   "cell_type": "markdown",
   "metadata": {},
   "source": [
    "BERT MODEL PERFORMANCE"
   ]
  },
  {
   "cell_type": "code",
   "execution_count": 27,
   "metadata": {},
   "outputs": [
    {
     "name": "stdout",
     "output_type": "stream",
     "text": [
      "Features loaded from cache at cache_dir/cached_dev_bert_128_2_1892\n"
     ]
    },
    {
     "data": {
      "application/vnd.jupyter.widget-view+json": {
       "model_id": "191f65133b654e56b07cd68418acfc5e",
       "version_major": 2,
       "version_minor": 0
      },
      "text/plain": [
       "HBox(children=(IntProgress(value=0, max=237), HTML(value='')))"
      ]
     },
     "metadata": {},
     "output_type": "display_data"
    },
    {
     "name": "stdout",
     "output_type": "stream",
     "text": [
      "\n"
     ]
    }
   ],
   "source": [
    "resulttwo, modeltwo_outputs, wrong_predictions = modeltwo.eval_model(train)"
   ]
  },
  {
   "cell_type": "code",
   "execution_count": 20,
   "metadata": {
    "ExecuteTime": {
     "end_time": "2019-11-29T21:07:53.581235Z",
     "start_time": "2019-11-29T21:07:53.576238Z"
    }
   },
   "outputs": [
    {
     "data": {
      "text/plain": [
       "{'mcc': 0.5673987968268284,\n",
       " 'tp': 871,\n",
       " 'tn': 587,\n",
       " 'fp': 359,\n",
       " 'fn': 75,\n",
       " 'eval_loss': 0.8151762967512703}"
      ]
     },
     "execution_count": 20,
     "metadata": {},
     "output_type": "execute_result"
    }
   ],
   "source": [
    "resulttwo"
   ]
  },
  {
   "cell_type": "code",
   "execution_count": 30,
   "metadata": {},
   "outputs": [
    {
     "name": "stdout",
     "output_type": "stream",
     "text": [
      "Resulttwo Performance:  Precision: 0.708130081300813 Recall: 0.9207188160676533 F1 Score: 0.8005514705882353\n"
     ]
    }
   ],
   "source": [
    "precision = 871/(871+359)\n",
    "recall = 871/(871+75)\n",
    "f1_score = (2*precision*recall)/(precision+recall)\n",
    "## Result 2 performance \n",
    "print(\"Resulttwo Performance: \", \n",
    "      \"Precision:\", precision, \n",
    "      \"Recall:\", recall, \n",
    "      \"F1 Score:\", f1_score)"
   ]
  },
  {
   "cell_type": "code",
   "execution_count": null,
   "metadata": {},
   "outputs": [],
   "source": [
    "from simpletransformers.classification import ClassificationModel\n",
    "model = ClassificationModel('roberta', 'roberta-base', use_cuda = False, args = {'overwrite_output_dir': True, 'num_train_epochs': 3})\n",
    "model.train_model(a)\n",
    "result, model_outputs, wrong_predictions = model.eval_model(b)"
   ]
  }
 ],
 "metadata": {
  "kernelspec": {
   "display_name": "Python 3",
   "language": "python",
   "name": "python3"
  },
  "language_info": {
   "codemirror_mode": {
    "name": "ipython",
    "version": 3
   },
   "file_extension": ".py",
   "mimetype": "text/x-python",
   "name": "python",
   "nbconvert_exporter": "python",
   "pygments_lexer": "ipython3",
   "version": "3.7.4"
  },
  "toc": {
   "base_numbering": 1,
   "nav_menu": {},
   "number_sections": true,
   "sideBar": true,
   "skip_h1_title": false,
   "title_cell": "Table of Contents",
   "title_sidebar": "Contents",
   "toc_cell": false,
   "toc_position": {},
   "toc_section_display": true,
   "toc_window_display": false
  }
 },
 "nbformat": 4,
 "nbformat_minor": 2
}
