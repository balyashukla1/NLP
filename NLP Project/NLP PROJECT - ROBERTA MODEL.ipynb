{
 "cells": [
  {
   "cell_type": "markdown",
   "metadata": {},
   "source": [
    "# NLP Project - ROBERTA"
   ]
  },
  {
   "cell_type": "code",
   "execution_count": null,
   "metadata": {
    "ExecuteTime": {
     "end_time": "2019-11-29T20:41:50.319162Z",
     "start_time": "2019-11-29T20:41:47.801844Z"
    }
   },
   "outputs": [],
   "source": [
    "from sklearn import model_selection, preprocessing, linear_model, naive_bayes, metrics, svm\n",
    "from sklearn.feature_extraction.text import TfidfVectorizer, CountVectorizer\n",
    "from sklearn import decomposition, ensemble\n",
    "from sklearn.linear_model import Ridge, Lasso\n",
    "from sklearn.utils import resample\n",
    "import pandas as pd\n",
    "import xgboost\n",
    "import numpy as np \n",
    "import nltk\n",
    "import gensim \n",
    "from gensim.models import Word2Vec\n",
    "from keras.preprocessing.text import text_to_word_sequence\n",
    "import string\n",
    "from nltk import word_tokenize\n",
    "from keras.preprocessing import text, sequence\n",
    "from keras import layers, models, optimizers"
   ]
  },
  {
   "cell_type": "code",
   "execution_count": null,
   "metadata": {
    "ExecuteTime": {
     "end_time": "2019-11-29T22:15:25.846570Z",
     "start_time": "2019-11-29T22:11:30.245410Z"
    }
   },
   "outputs": [],
   "source": [
    "nn = pd.read_excel('C:\\\\Users\\\\ankit\\\\Downloads\\\\baseline.xlsx')\n",
    "nn['tokens'] = nn['q1_q2'].apply(word_tokenize) \n",
    "nn = nn.astype(str)\n",
    "nn = nn.sample(n = 15000, random_state=1) \n",
    "nn\n",
    "nn.is_duplicate.value_counts()"
   ]
  },
  {
   "cell_type": "code",
   "execution_count": null,
   "metadata": {
    "ExecuteTime": {
     "end_time": "2019-11-29T22:16:19.330072Z",
     "start_time": "2019-11-29T22:16:19.289817Z"
    }
   },
   "outputs": [],
   "source": [
    "nnn_majority = nn[nn.is_duplicate=='0']\n",
    "nnn_minority = nn[nn.is_duplicate=='1']\n",
    "\n",
    "\n",
    "nnn_minority\n",
    "df_majority_downsampled = resample(nnn_majority, \n",
    "                                 replace=False,    # sample without replacement\n",
    "                                 n_samples=1892,     # to match minority class\n",
    "                                 random_state=123) # reproducible results\n",
    "nn = pd.concat([df_majority_downsampled, nnn_minority])\n",
    "\n",
    "nn.is_duplicate.value_counts()"
   ]
  },
  {
   "cell_type": "code",
   "execution_count": null,
   "metadata": {
    "ExecuteTime": {
     "end_time": "2019-11-29T22:16:21.195161Z",
     "start_time": "2019-11-29T22:16:21.186400Z"
    }
   },
   "outputs": [],
   "source": [
    "nn['is_duplicate'].value_counts()"
   ]
  },
  {
   "cell_type": "code",
   "execution_count": null,
   "metadata": {
    "ExecuteTime": {
     "end_time": "2019-11-29T22:16:22.382264Z",
     "start_time": "2019-11-29T22:16:22.371247Z"
    },
    "scrolled": true
   },
   "outputs": [],
   "source": [
    "from simpletransformers.classification import MultiLabelClassificationModel\n",
    "\n",
    "df = nn[[\"q1_q2\",\"is_duplicate\"]]\n",
    "df['is_duplicate'].value_counts()"
   ]
  },
  {
   "cell_type": "code",
   "execution_count": null,
   "metadata": {
    "ExecuteTime": {
     "end_time": "2019-11-29T22:16:23.352435Z",
     "start_time": "2019-11-29T22:16:23.338791Z"
    }
   },
   "outputs": [],
   "source": [
    "from sklearn.model_selection import train_test_split\n",
    "df"
   ]
  },
  {
   "cell_type": "code",
   "execution_count": null,
   "metadata": {
    "ExecuteTime": {
     "end_time": "2019-11-29T22:16:24.816488Z",
     "start_time": "2019-11-29T22:16:24.775377Z"
    }
   },
   "outputs": [],
   "source": [
    "df\n",
    "\n",
    "train, test = train_test_split(df, test_size=0.5, stratify = df['is_duplicate'])\n",
    "\n",
    "\n",
    "a, b = np.split(df, [int(.4*len(df))])\n",
    "a['q1_q2'].apply(str)\n",
    "b['q1_q2'].apply(str)\n",
    "\n",
    "a[\"is_duplicate\"] = pd.to_numeric(a[\"is_duplicate\"])\n",
    "b[\"is_duplicate\"] = pd.to_numeric(b[\"is_duplicate\"])\n",
    "\n",
    "#a['is_duplicate']=a.is_duplicate.astype('float')\n",
    "#b['is_duplicate']=b.is_duplicate.astype('float')\n",
    "\n",
    "a.dtypes\n",
    "b.dtypes\n",
    "b['is_duplicate'].value_counts()\n",
    "test['is_duplicate'].value_counts()\n",
    "\n",
    "\n",
    "\n",
    "train['q1_q2'].apply(str)\n",
    "test['q1_q2'].apply(str)\n",
    "\n",
    "train[\"is_duplicate\"] = pd.to_numeric(train[\"is_duplicate\"])\n",
    "test[\"is_duplicate\"] = pd.to_numeric(test[\"is_duplicate\"])\n",
    "\n",
    "test.dtypes"
   ]
  },
  {
   "cell_type": "code",
   "execution_count": null,
   "metadata": {
    "ExecuteTime": {
     "end_time": "2019-11-29T23:46:31.433327Z",
     "start_time": "2019-11-29T22:16:26.004410Z"
    }
   },
   "outputs": [],
   "source": [
    "from simpletransformers.classification import ClassificationModel\n",
    "model = ClassificationModel('roberta', 'roberta-base', use_cuda = False, args = {'overwrite_output_dir': True, 'num_train_epochs': 5})\n",
    "model.train_model(train)\n",
    "result, model_outputs, wrong_predictions = model.eval_model(test)"
   ]
  },
  {
   "cell_type": "code",
   "execution_count": null,
   "metadata": {
    "ExecuteTime": {
     "end_time": "2019-11-29T23:46:42.281250Z",
     "start_time": "2019-11-29T23:46:42.276263Z"
    }
   },
   "outputs": [],
   "source": [
    "result"
   ]
  },
  {
   "cell_type": "code",
   "execution_count": null,
   "metadata": {
    "ExecuteTime": {
     "end_time": "2019-11-29T21:07:29.159551Z",
     "start_time": "2019-11-29T20:53:21.673582Z"
    }
   },
   "outputs": [],
   "source": [
    "modeltwo = ClassificationModel('bert', 'bert-base-uncased', use_cuda = False, args = {'overwrite_output_dir': True, 'num_train_epochs': 5})\n",
    "modeltwo.train_model(train)\n",
    "resulttwo, modeltwo_outputs, wrong_predictions = modeltwo.eval_model(test)"
   ]
  },
  {
   "cell_type": "code",
   "execution_count": null,
   "metadata": {
    "ExecuteTime": {
     "end_time": "2019-11-29T21:07:53.581235Z",
     "start_time": "2019-11-29T21:07:53.576238Z"
    }
   },
   "outputs": [],
   "source": [
    "resulttwo"
   ]
  }
 ],
 "metadata": {
  "kernelspec": {
   "display_name": "Python 3",
   "language": "python",
   "name": "python3"
  },
  "language_info": {
   "codemirror_mode": {
    "name": "ipython",
    "version": 3
   },
   "file_extension": ".py",
   "mimetype": "text/x-python",
   "name": "python",
   "nbconvert_exporter": "python",
   "pygments_lexer": "ipython3",
   "version": "3.7.3"
  },
  "toc": {
   "base_numbering": 1,
   "nav_menu": {},
   "number_sections": true,
   "sideBar": true,
   "skip_h1_title": false,
   "title_cell": "Table of Contents",
   "title_sidebar": "Contents",
   "toc_cell": false,
   "toc_position": {},
   "toc_section_display": true,
   "toc_window_display": false
  }
 },
 "nbformat": 4,
 "nbformat_minor": 2
}
