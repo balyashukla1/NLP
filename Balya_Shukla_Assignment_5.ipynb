{
  "nbformat": 4,
  "nbformat_minor": 0,
  "metadata": {
    "accelerator": "GPU",
    "colab": {
      "name": "Balya_Shukla_Assignment_5.ipynb",
      "provenance": [],
      "collapsed_sections": [],
      "toc_visible": true,
      "include_colab_link": true
    },
    "kernelspec": {
      "display_name": "Python 3",
      "language": "python",
      "name": "python3"
    },
    "language_info": {
      "codemirror_mode": {
        "name": "ipython",
        "version": 3
      },
      "file_extension": ".py",
      "mimetype": "text/x-python",
      "name": "python",
      "nbconvert_exporter": "python",
      "pygments_lexer": "ipython3",
      "version": "3.7.4"
    }
  },
  "cells": [
    {
      "cell_type": "markdown",
      "metadata": {
        "id": "view-in-github",
        "colab_type": "text"
      },
      "source": [
        "<a href=\"https://colab.research.google.com/github/balyashukla1/NLP/blob/master/Balya_Shukla_Assignment_5.ipynb\" target=\"_parent\"><img src=\"https://colab.research.google.com/assets/colab-badge.svg\" alt=\"Open In Colab\"/></a>"
      ]
    },
    {
      "cell_type": "markdown",
      "metadata": {
        "colab_type": "text",
        "id": "t09eeeR5prIJ"
      },
      "source": [
        "##### Copyright 2019 The TensorFlow Authors."
      ]
    },
    {
      "cell_type": "markdown",
      "metadata": {
        "colab_type": "text",
        "id": "T6ZMq3DpVusO"
      },
      "source": [
        "### PART 1A"
      ]
    },
    {
      "cell_type": "markdown",
      "metadata": {
        "colab_type": "text",
        "id": "srXC6pLGLwS6"
      },
      "source": [
        "## Setup"
      ]
    },
    {
      "cell_type": "markdown",
      "metadata": {
        "colab_type": "text",
        "id": "WGyKZj3bzf9p"
      },
      "source": [
        "### Import TensorFlow and other libraries"
      ]
    },
    {
      "cell_type": "code",
      "metadata": {
        "colab_type": "code",
        "id": "yG_n40gFzf9s",
        "colab": {}
      },
      "source": [
        "from __future__ import absolute_import, division, print_function, unicode_literals\n",
        "\n",
        "try:\n",
        "  # %tensorflow_version only exists in Colab.\n",
        "  %tensorflow_version 2.x\n",
        "except Exception:\n",
        "  pass\n",
        "import tensorflow as tf\n",
        "\n",
        "import numpy as np\n",
        "import os\n",
        "import time"
      ],
      "execution_count": 0,
      "outputs": []
    },
    {
      "cell_type": "markdown",
      "metadata": {
        "colab_type": "text",
        "id": "EHDoRoc5PKWz"
      },
      "source": [
        "### Download the Shakespeare dataset\n",
        "\n",
        "Change the following line to run this code on your own data."
      ]
    },
    {
      "cell_type": "code",
      "metadata": {
        "colab_type": "code",
        "id": "pD_55cOxLkAb",
        "colab": {}
      },
      "source": [
        "path_to_file = tf.keras.utils.get_file('shakespeare.txt', 'https://storage.googleapis.com/download.tensorflow.org/data/shakespeare.txt')"
      ],
      "execution_count": 0,
      "outputs": []
    },
    {
      "cell_type": "markdown",
      "metadata": {
        "colab_type": "text",
        "id": "UHjdCjDuSvX_"
      },
      "source": [
        "### Read the data\n",
        "\n",
        "First, look in the text:"
      ]
    },
    {
      "cell_type": "code",
      "metadata": {
        "colab_type": "code",
        "id": "aavnuByVymwK",
        "colab": {}
      },
      "source": [
        "# Read, then decode for py2 compat.\n",
        "text = open(path_to_file, 'rb').read().decode(encoding='utf-8')\n",
        "# length of text is the number of characters in it\n",
        "print ('Length of text: {} characters'.format(len(text)))"
      ],
      "execution_count": 0,
      "outputs": []
    },
    {
      "cell_type": "code",
      "metadata": {
        "colab_type": "code",
        "id": "Duhg9NrUymwO",
        "colab": {}
      },
      "source": [
        "# Take a look at the first 250 characters in text\n",
        "print(text[:250])"
      ],
      "execution_count": 0,
      "outputs": []
    },
    {
      "cell_type": "code",
      "metadata": {
        "colab_type": "code",
        "id": "IlCgQBRVymwR",
        "colab": {}
      },
      "source": [
        "# The unique characters in the file\n",
        "vocab = sorted(set(text))\n",
        "print ('{} unique characters'.format(len(vocab)))"
      ],
      "execution_count": 0,
      "outputs": []
    },
    {
      "cell_type": "markdown",
      "metadata": {
        "colab_type": "text",
        "id": "rNnrKn_lL-IJ"
      },
      "source": [
        "## Process the text"
      ]
    },
    {
      "cell_type": "markdown",
      "metadata": {
        "colab_type": "text",
        "id": "LFjSVAlWzf-N"
      },
      "source": [
        "### Vectorize the text\n",
        "\n",
        "Before training, we need to map strings to a numerical representation. Create two lookup tables: one mapping characters to numbers, and another for numbers to characters."
      ]
    },
    {
      "cell_type": "code",
      "metadata": {
        "colab_type": "code",
        "id": "IalZLbvOzf-F",
        "colab": {}
      },
      "source": [
        "# Creating a mapping from unique characters to indices\n",
        "char2idx = {u:i for i, u in enumerate(vocab)}\n",
        "idx2char = np.array(vocab)\n",
        "\n",
        "text_as_int = np.array([char2idx[c] for c in text])"
      ],
      "execution_count": 0,
      "outputs": []
    },
    {
      "cell_type": "markdown",
      "metadata": {
        "colab_type": "text",
        "id": "tZfqhkYCymwX"
      },
      "source": [
        "Now we have an integer representation for each character. Notice that we mapped the character as indexes from 0 to `len(unique)`."
      ]
    },
    {
      "cell_type": "code",
      "metadata": {
        "colab_type": "code",
        "id": "FYyNlCNXymwY",
        "colab": {}
      },
      "source": [
        "print('{')\n",
        "for char,_ in zip(char2idx, range(20)):\n",
        "    print('  {:4s}: {:3d},'.format(repr(char), char2idx[char]))\n",
        "print('  ...\\n}')"
      ],
      "execution_count": 0,
      "outputs": []
    },
    {
      "cell_type": "code",
      "metadata": {
        "colab_type": "code",
        "id": "l1VKcQHcymwb",
        "colab": {}
      },
      "source": [
        "# Show how the first 13 characters from the text are mapped to integers\n",
        "print ('{} ---- characters mapped to int ---- > {}'.format(repr(text[:13]), text_as_int[:13]))"
      ],
      "execution_count": 0,
      "outputs": []
    },
    {
      "cell_type": "markdown",
      "metadata": {
        "colab_type": "text",
        "id": "bbmsf23Bymwe"
      },
      "source": [
        "### The prediction task"
      ]
    },
    {
      "cell_type": "markdown",
      "metadata": {
        "colab_type": "text",
        "id": "wssHQ1oGymwe"
      },
      "source": [
        "Given a character, or a sequence of characters, what is the most probable next character? This is the task we're training the model to perform. The input to the model will be a sequence of characters, and we train the model to predict the output—the following character at each time step.\n",
        "\n",
        "Since RNNs maintain an internal state that depends on the previously seen elements, given all the characters computed until this moment, what is the next character?\n"
      ]
    },
    {
      "cell_type": "markdown",
      "metadata": {
        "colab_type": "text",
        "id": "hgsVvVxnymwf"
      },
      "source": [
        "### Create training examples and targets\n",
        "\n",
        "Next divide the text into example sequences. Each input sequence will contain `seq_length` characters from the text.\n",
        "\n",
        "For each input sequence, the corresponding targets contain the same length of text, except shifted one character to the right.\n",
        "\n",
        "So break the text into chunks of `seq_length+1`. For example, say `seq_length` is 4 and our text is \"Hello\". The input sequence would be \"Hell\", and the target sequence \"ello\".\n",
        "\n",
        "To do this first use the `tf.data.Dataset.from_tensor_slices` function to convert the text vector into a stream of character indices."
      ]
    },
    {
      "cell_type": "code",
      "metadata": {
        "colab_type": "code",
        "id": "0UHJDA39zf-O",
        "colab": {}
      },
      "source": [
        "# The maximum length sentence we want for a single input in characters\n",
        "seq_length = 100\n",
        "examples_per_epoch = len(text)//(seq_length+1)\n",
        "\n",
        "# Create training examples / targets\n",
        "char_dataset = tf.data.Dataset.from_tensor_slices(text_as_int)\n",
        "\n",
        "for i in char_dataset.take(5):\n",
        "  print(idx2char[i.numpy()])"
      ],
      "execution_count": 0,
      "outputs": []
    },
    {
      "cell_type": "markdown",
      "metadata": {
        "colab_type": "text",
        "id": "-ZSYAcQV8OGP"
      },
      "source": [
        "The `batch` method lets us easily convert these individual characters to sequences of the desired size."
      ]
    },
    {
      "cell_type": "code",
      "metadata": {
        "colab_type": "code",
        "id": "l4hkDU3i7ozi",
        "colab": {}
      },
      "source": [
        "sequences = char_dataset.batch(seq_length+1, drop_remainder=True)\n",
        "\n",
        "for item in sequences.take(5):\n",
        "  print(repr(''.join(idx2char[item.numpy()])))"
      ],
      "execution_count": 0,
      "outputs": []
    },
    {
      "cell_type": "markdown",
      "metadata": {
        "colab_type": "text",
        "id": "UbLcIPBj_mWZ"
      },
      "source": [
        "For each sequence, duplicate and shift it to form the input and target text by using the `map` method to apply a simple function to each batch:"
      ]
    },
    {
      "cell_type": "code",
      "metadata": {
        "colab_type": "code",
        "id": "9NGu-FkO_kYU",
        "colab": {}
      },
      "source": [
        "def split_input_target(chunk):\n",
        "    input_text = chunk[:-1]\n",
        "    target_text = chunk[1:]\n",
        "    return input_text, target_text\n",
        "\n",
        "dataset = sequences.map(split_input_target)"
      ],
      "execution_count": 0,
      "outputs": []
    },
    {
      "cell_type": "markdown",
      "metadata": {
        "colab_type": "text",
        "id": "hiCopyGZymwi"
      },
      "source": [
        "Print the first examples input and target values:"
      ]
    },
    {
      "cell_type": "code",
      "metadata": {
        "colab_type": "code",
        "id": "GNbw-iR0ymwj",
        "colab": {}
      },
      "source": [
        "for input_example, target_example in  dataset.take(1):\n",
        "  print ('Input data: ', repr(''.join(idx2char[input_example.numpy()])))\n",
        "  print ('Target data:', repr(''.join(idx2char[target_example.numpy()])))"
      ],
      "execution_count": 0,
      "outputs": []
    },
    {
      "cell_type": "markdown",
      "metadata": {
        "colab_type": "text",
        "id": "_33OHL3b84i0"
      },
      "source": [
        "Each index of these vectors are processed as one time step. For the input at time step 0, the model receives the index for \"F\" and trys to predict the index for \"i\" as the next character. At the next timestep, it does the same thing but the `RNN` considers the previous step context in addition to the current input character."
      ]
    },
    {
      "cell_type": "code",
      "metadata": {
        "colab_type": "code",
        "id": "0eBu9WZG84i0",
        "colab": {}
      },
      "source": [
        "for i, (input_idx, target_idx) in enumerate(zip(input_example[:5], target_example[:5])):\n",
        "    print(\"Step {:4d}\".format(i))\n",
        "    print(\"  input: {} ({:s})\".format(input_idx, repr(idx2char[input_idx])))\n",
        "    print(\"  expected output: {} ({:s})\".format(target_idx, repr(idx2char[target_idx])))"
      ],
      "execution_count": 0,
      "outputs": []
    },
    {
      "cell_type": "markdown",
      "metadata": {
        "colab_type": "text",
        "id": "MJdfPmdqzf-R"
      },
      "source": [
        "### Create training batches\n",
        "\n",
        "We used `tf.data` to split the text into manageable sequences. But before feeding this data into the model, we need to shuffle the data and pack it into batches."
      ]
    },
    {
      "cell_type": "code",
      "metadata": {
        "colab_type": "code",
        "id": "p2pGotuNzf-S",
        "colab": {}
      },
      "source": [
        "# Batch size\n",
        "BATCH_SIZE = 1\n",
        "\n",
        "# Buffer size to shuffle the dataset\n",
        "# (TF data is designed to work with possibly infinite sequences,\n",
        "# so it doesn't attempt to shuffle the entire sequence in memory. Instead,\n",
        "# it maintains a buffer in which it shuffles elements).\n",
        "BUFFER_SIZE = 10000\n",
        "\n",
        "dataset = dataset.shuffle(BUFFER_SIZE).batch(BATCH_SIZE, drop_remainder=True)\n",
        "\n",
        "dataset"
      ],
      "execution_count": 0,
      "outputs": []
    },
    {
      "cell_type": "markdown",
      "metadata": {
        "colab_type": "text",
        "id": "r6oUuElIMgVx"
      },
      "source": [
        "## Build The Model"
      ]
    },
    {
      "cell_type": "code",
      "metadata": {
        "colab_type": "code",
        "id": "zHT8cLh7EAsg",
        "colab": {}
      },
      "source": [
        "# Length of the vocabulary in chars\n",
        "vocab_size = len(vocab)\n",
        "\n",
        "# The embedding dimension\n",
        "embedding_dim = 256\n",
        "\n",
        "# Number of RNN units\n",
        "rnn_units = 1024"
      ],
      "execution_count": 0,
      "outputs": []
    },
    {
      "cell_type": "code",
      "metadata": {
        "colab_type": "code",
        "id": "MtCrdfzEI2N0",
        "colab": {}
      },
      "source": [
        "def build_model(vocab_size, embedding_dim, rnn_units, batch_size):\n",
        "  model = tf.keras.Sequential([\n",
        "    tf.keras.layers.Embedding(vocab_size, embedding_dim,\n",
        "                              batch_input_shape=[batch_size, None]),\n",
        "    tf.keras.layers.GRU(rnn_units,\n",
        "                        return_sequences=True,\n",
        "                        stateful=True,\n",
        "                        recurrent_initializer='glorot_uniform'),\n",
        "    tf.keras.layers.Dense(vocab_size)\n",
        "  ])\n",
        "  return model"
      ],
      "execution_count": 0,
      "outputs": []
    },
    {
      "cell_type": "markdown",
      "metadata": {
        "colab_type": "text",
        "id": "tOegjE9tS__Q"
      },
      "source": [
        "## PART 1C : USING LSTM\n",
        "\n",
        "For Part 1C, I will change the above model by changing the tf.keras.layers.GRU to tf.keras.layers.LSTM"
      ]
    },
    {
      "cell_type": "code",
      "metadata": {
        "colab_type": "code",
        "id": "tUxMqLCIS__R",
        "colab": {}
      },
      "source": [
        "def build_model2(vocab_size, embedding_dim, rnn_units, batch_size):\n",
        "  model = tf.keras.Sequential([\n",
        "    tf.keras.layers.Embedding(vocab_size, embedding_dim,\n",
        "                              batch_input_shape=[batch_size, None]),\n",
        "    tf.keras.layers.LSTM(rnn_units,\n",
        "                        return_sequences=True,\n",
        "                        stateful=True,\n",
        "                        recurrent_initializer='glorot_uniform'),\n",
        "    tf.keras.layers.Dense(vocab_size)\n",
        "  ])\n",
        "  return model"
      ],
      "execution_count": 0,
      "outputs": []
    },
    {
      "cell_type": "code",
      "metadata": {
        "colab_type": "code",
        "id": "wwsrpOik5zhv",
        "colab": {}
      },
      "source": [
        "model = build_model(\n",
        "  vocab_size = len(vocab),\n",
        "  embedding_dim=embedding_dim,\n",
        "  rnn_units=rnn_units,\n",
        "  batch_size=BATCH_SIZE)"
      ],
      "execution_count": 0,
      "outputs": []
    },
    {
      "cell_type": "code",
      "metadata": {
        "colab_type": "code",
        "id": "qFW5kvU-S__V",
        "colab": {}
      },
      "source": [
        "### for lstm model, I will run the following code: \n",
        "model2 = build_model2(\n",
        "  vocab_size = len(vocab),\n",
        "  embedding_dim=embedding_dim,\n",
        "  rnn_units=rnn_units,\n",
        "  batch_size=BATCH_SIZE)"
      ],
      "execution_count": 0,
      "outputs": []
    },
    {
      "cell_type": "markdown",
      "metadata": {
        "colab_type": "text",
        "id": "RkA5upJIJ7W7"
      },
      "source": [
        "For each character the model looks up the embedding, runs the GRU one timestep with the embedding as input, and applies the dense layer to generate logits predicting the log-likelihood of the next character:"
      ]
    },
    {
      "cell_type": "markdown",
      "metadata": {
        "colab_type": "text",
        "id": "-ubPo0_9Prjb"
      },
      "source": [
        "## Try the model\n",
        "\n",
        "Now run the model to see that it behaves as expected.\n",
        "\n",
        "First check the shape of the output:"
      ]
    },
    {
      "cell_type": "code",
      "metadata": {
        "colab_type": "code",
        "id": "C-_70kKAPrPU",
        "colab": {}
      },
      "source": [
        "for input_example_batch, target_example_batch in dataset.take(1):\n",
        "  example_batch_predictions = model(input_example_batch)\n",
        "  print(example_batch_predictions.shape, \"# (batch_size, sequence_length, vocab_size)\")"
      ],
      "execution_count": 0,
      "outputs": []
    },
    {
      "cell_type": "code",
      "metadata": {
        "colab_type": "code",
        "id": "Adh5OLnLS__Z",
        "colab": {}
      },
      "source": [
        "## Repeat the step for model 2"
      ],
      "execution_count": 0,
      "outputs": []
    },
    {
      "cell_type": "code",
      "metadata": {
        "colab_type": "code",
        "id": "TW3ZnHprS__b",
        "colab": {}
      },
      "source": [
        "for input_example_batch, target_example_batch in dataset.take(1):\n",
        "  example_batch_predictions = model2(input_example_batch)\n",
        "  print(example_batch_predictions.shape, \"# (batch_size, sequence_length, vocab_size)\")"
      ],
      "execution_count": 0,
      "outputs": []
    },
    {
      "cell_type": "markdown",
      "metadata": {
        "colab_type": "text",
        "id": "Q6NzLBi4VM4o"
      },
      "source": [
        "In the above example the sequence length of the input is `100` but the model can be run on inputs of any length:"
      ]
    },
    {
      "cell_type": "code",
      "metadata": {
        "colab_type": "code",
        "id": "vPGmAAXmVLGC",
        "colab": {}
      },
      "source": [
        "model.summary()"
      ],
      "execution_count": 0,
      "outputs": []
    },
    {
      "cell_type": "code",
      "metadata": {
        "colab_type": "code",
        "id": "gaYpEnAXS__l",
        "colab": {}
      },
      "source": [
        "## Repeat the step for model 2"
      ],
      "execution_count": 0,
      "outputs": []
    },
    {
      "cell_type": "code",
      "metadata": {
        "colab_type": "code",
        "id": "d6-9QToMS__m",
        "colab": {}
      },
      "source": [
        "model2.summary()"
      ],
      "execution_count": 0,
      "outputs": []
    },
    {
      "cell_type": "markdown",
      "metadata": {
        "colab_type": "text",
        "id": "uwv0gEkURfx1"
      },
      "source": [
        "To get actual predictions from the model we need to sample from the output distribution, to get actual character indices. This distribution is defined by the logits over the character vocabulary.\n",
        "\n",
        "Note: It is important to _sample_ from this distribution as taking the _argmax_ of the distribution can easily get the model stuck in a loop.\n",
        "\n",
        "Try it for the first example in the batch:"
      ]
    },
    {
      "cell_type": "code",
      "metadata": {
        "colab_type": "code",
        "id": "4V4MfFg0RQJg",
        "colab": {}
      },
      "source": [
        "sampled_indices = tf.random.categorical(example_batch_predictions[0], num_samples=1)\n",
        "sampled_indices = tf.squeeze(sampled_indices,axis=-1).numpy()"
      ],
      "execution_count": 0,
      "outputs": []
    },
    {
      "cell_type": "markdown",
      "metadata": {
        "colab_type": "text",
        "id": "QM1Vbxs_URw5"
      },
      "source": [
        "This gives us, at each timestep, a prediction of the next character index:"
      ]
    },
    {
      "cell_type": "code",
      "metadata": {
        "colab_type": "code",
        "id": "YqFMUQc_UFgM",
        "colab": {}
      },
      "source": [
        "sampled_indices"
      ],
      "execution_count": 0,
      "outputs": []
    },
    {
      "cell_type": "markdown",
      "metadata": {
        "colab_type": "text",
        "id": "LfLtsP3mUhCG"
      },
      "source": [
        "Decode these to see the text predicted by this untrained model:"
      ]
    },
    {
      "cell_type": "code",
      "metadata": {
        "colab_type": "code",
        "id": "xWcFwPwLSo05",
        "colab": {}
      },
      "source": [
        "print(\"Input: \\n\", repr(\"\".join(idx2char[input_example_batch[0]])))\n",
        "print()\n",
        "print(\"Next Char Predictions: \\n\", repr(\"\".join(idx2char[sampled_indices ])))"
      ],
      "execution_count": 0,
      "outputs": []
    },
    {
      "cell_type": "markdown",
      "metadata": {
        "colab_type": "text",
        "id": "LJL0Q0YPY6Ee"
      },
      "source": [
        "## Train the model"
      ]
    },
    {
      "cell_type": "markdown",
      "metadata": {
        "colab_type": "text",
        "id": "YCbHQHiaa4Ic"
      },
      "source": [
        "At this point the problem can be treated as a standard classification problem. Given the previous RNN state, and the input this time step, predict the class of the next character."
      ]
    },
    {
      "cell_type": "markdown",
      "metadata": {
        "colab_type": "text",
        "id": "trpqTWyvk0nr"
      },
      "source": [
        "### Attach an optimizer, and a loss function"
      ]
    },
    {
      "cell_type": "markdown",
      "metadata": {
        "colab_type": "text",
        "id": "UAjbjY03eiQ4"
      },
      "source": [
        "The standard `tf.keras.losses.sparse_categorical_crossentropy` loss function works in this case because it is applied across the last dimension of the predictions.\n",
        "\n",
        "Because our model returns logits, we need to set the `from_logits` flag.\n"
      ]
    },
    {
      "cell_type": "code",
      "metadata": {
        "colab_type": "code",
        "id": "4HrXTACTdzY-",
        "colab": {}
      },
      "source": [
        "def loss(labels, logits):\n",
        "  return tf.keras.losses.sparse_categorical_crossentropy(labels, logits, from_logits=True)\n",
        "\n",
        "example_batch_loss  = loss(target_example_batch, example_batch_predictions)\n",
        "print(\"Prediction shape: \", example_batch_predictions.shape, \" # (batch_size, sequence_length, vocab_size)\")\n",
        "print(\"scalar_loss:      \", example_batch_loss.numpy().mean())"
      ],
      "execution_count": 0,
      "outputs": []
    },
    {
      "cell_type": "markdown",
      "metadata": {
        "colab_type": "text",
        "id": "jeOXriLcymww"
      },
      "source": [
        "Configure the training procedure using the `tf.keras.Model.compile` method. We'll use `tf.keras.optimizers.Adam` with default arguments and the loss function."
      ]
    },
    {
      "cell_type": "code",
      "metadata": {
        "colab_type": "code",
        "id": "DDl1_Een6rL0",
        "colab": {}
      },
      "source": [
        "model.compile(optimizer='adam', loss=loss)"
      ],
      "execution_count": 0,
      "outputs": []
    },
    {
      "cell_type": "code",
      "metadata": {
        "colab_type": "code",
        "id": "uZGO7CV-S__3",
        "colab": {}
      },
      "source": [
        "## Repeat the step for model 2:\n",
        "\n",
        "model2.compile(optimizer='adam', loss=loss)"
      ],
      "execution_count": 0,
      "outputs": []
    },
    {
      "cell_type": "markdown",
      "metadata": {
        "colab_type": "text",
        "id": "ieSJdchZggUj"
      },
      "source": [
        "### Configure checkpoints"
      ]
    },
    {
      "cell_type": "markdown",
      "metadata": {
        "colab_type": "text",
        "id": "C6XBUUavgF56"
      },
      "source": [
        "Use a `tf.keras.callbacks.ModelCheckpoint` to ensure that checkpoints are saved during training:"
      ]
    },
    {
      "cell_type": "code",
      "metadata": {
        "colab_type": "code",
        "id": "W6fWTriUZP-n",
        "colab": {}
      },
      "source": [
        "# Directory where the checkpoints will be saved\n",
        "checkpoint_dir = './training_checkpoints'\n",
        "# Name of the checkpoint files\n",
        "checkpoint_prefix = os.path.join(checkpoint_dir, \"ckpt_{epoch}\")\n",
        "\n",
        "checkpoint_callback=tf.keras.callbacks.ModelCheckpoint(\n",
        "    filepath=checkpoint_prefix,\n",
        "    save_weights_only=True)"
      ],
      "execution_count": 0,
      "outputs": []
    },
    {
      "cell_type": "markdown",
      "metadata": {
        "colab_type": "text",
        "id": "3Ky3F_BhgkTW"
      },
      "source": [
        "### Execute the training"
      ]
    },
    {
      "cell_type": "markdown",
      "metadata": {
        "colab_type": "text",
        "id": "IxdOA-rgyGvs"
      },
      "source": [
        "To keep training time reasonable, use 10 epochs to train the model. In Colab, set the runtime to GPU for faster training."
      ]
    },
    {
      "cell_type": "code",
      "metadata": {
        "colab_type": "code",
        "id": "7yGBE2zxMMHs",
        "colab": {}
      },
      "source": [
        "EPOCHS=10\n",
        "steps = 174"
      ],
      "execution_count": 0,
      "outputs": []
    },
    {
      "cell_type": "code",
      "metadata": {
        "colab_type": "code",
        "id": "UK-hmKjYVoll",
        "colab": {}
      },
      "source": [
        "history = model.fit(dataset, epochs=EPOCHS,steps_per_epoch = 174, callbacks=[checkpoint_callback])"
      ],
      "execution_count": 0,
      "outputs": []
    },
    {
      "cell_type": "code",
      "metadata": {
        "colab_type": "code",
        "id": "Yl9DYgiHTAAE",
        "colab": {}
      },
      "source": [
        "## Repeat the step with model 2:\n",
        "\n",
        "history2 = model2.fit(dataset, epochs=EPOCHS, steps_per_epoch= 174, callbacks=[checkpoint_callback])"
      ],
      "execution_count": 0,
      "outputs": []
    },
    {
      "cell_type": "markdown",
      "metadata": {
        "colab_type": "text",
        "id": "OZe1llCIYOQZ"
      },
      "source": [
        "We can see that the training loss for 10 epoch goes down with the LSTM model is used in comparison to using GRU. The loss for GRU was 2.4160 and the loss for LSTM was 1.8260.  Because input is controled based on weights, LSTM performs better than GRU. "
      ]
    },
    {
      "cell_type": "markdown",
      "metadata": {
        "colab_type": "text",
        "id": "kKkD5M6eoSiN"
      },
      "source": [
        "## Generate text"
      ]
    },
    {
      "cell_type": "markdown",
      "metadata": {
        "colab_type": "text",
        "id": "JIPcXllKjkdr"
      },
      "source": [
        "### Restore the latest checkpoint"
      ]
    },
    {
      "cell_type": "markdown",
      "metadata": {
        "colab_type": "text",
        "id": "LyeYRiuVjodY"
      },
      "source": [
        "To keep this prediction step simple, use a batch size of 1.\n",
        "\n",
        "Because of the way the RNN state is passed from timestep to timestep, the model only accepts a fixed batch size once built.\n",
        "\n",
        "To run the model with a different `batch_size`, we need to rebuild the model and restore the weights from the checkpoint.\n"
      ]
    },
    {
      "cell_type": "code",
      "metadata": {
        "colab_type": "code",
        "id": "zk2WJ2-XjkGz",
        "colab": {}
      },
      "source": [
        "tf.train.latest_checkpoint(checkpoint_dir)"
      ],
      "execution_count": 0,
      "outputs": []
    },
    {
      "cell_type": "code",
      "metadata": {
        "colab_type": "code",
        "id": "LycQ-ot_jjyu",
        "colab": {}
      },
      "source": [
        "model = build_model(vocab_size, embedding_dim, rnn_units, batch_size=1)\n",
        "\n",
        "#model.load_weights(tf.train.latest_checkpoint(checkpoint_dir))\n",
        "\n",
        "model.build(tf.TensorShape([1, None]))"
      ],
      "execution_count": 0,
      "outputs": []
    },
    {
      "cell_type": "code",
      "metadata": {
        "colab_type": "code",
        "id": "71xa6jnYVrAN",
        "colab": {}
      },
      "source": [
        "model.summary()"
      ],
      "execution_count": 0,
      "outputs": []
    },
    {
      "cell_type": "markdown",
      "metadata": {
        "colab_type": "text",
        "id": "DjGz1tDkzf-u"
      },
      "source": [
        "### The prediction loop\n",
        "\n",
        "The following code block generates the text:\n",
        "\n",
        "* It Starts by choosing a start string, initializing the RNN state and setting the number of characters to generate.\n",
        "\n",
        "* Get the prediction distribution of the next character using the start string and the RNN state.\n",
        "\n",
        "* Then, use a categorical distribution to calculate the index of the predicted character. Use this predicted character as our next input to the model.\n",
        "\n",
        "* The RNN state returned by the model is fed back into the model so that it now has more context, instead than only one word. After predicting the next word, the modified RNN states are again fed back into the model, which is how it learns as it gets more context from the previously predicted words.\n",
        "\n",
        "\n",
        "![To generate text the model's output is fed back to the input](images/text_generation_sampling.png)\n",
        "\n",
        "Looking at the generated text, you'll see the model knows when to capitalize, make paragraphs and imitates a Shakespeare-like writing vocabulary. With the small number of training epochs, it has not yet learned to form coherent sentences."
      ]
    },
    {
      "cell_type": "code",
      "metadata": {
        "colab_type": "code",
        "id": "WvuwZBX5Ogfd",
        "colab": {}
      },
      "source": [
        "def generate_text(model, start_string):\n",
        "  # Evaluation step (generating text using the learned model)\n",
        "\n",
        "  # Number of characters to generate\n",
        "  num_generate = 1000\n",
        "\n",
        "  # Converting our start string to numbers (vectorizing)\n",
        "  input_eval = [char2idx[s] for s in start_string]\n",
        "  input_eval = tf.expand_dims(input_eval, 0)\n",
        "\n",
        "  # Empty string to store our results\n",
        "  text_generated = []\n",
        "\n",
        "  # Low temperatures results in more predictable text.\n",
        "  # Higher temperatures results in more surprising text.\n",
        "  # Experiment to find the best setting.\n",
        "  temperature = 1.0\n",
        "\n",
        "  # Here batch size == 1\n",
        "  model.reset_states()\n",
        "  for i in range(num_generate):\n",
        "      predictions = model(input_eval)\n",
        "      # remove the batch dimension\n",
        "      predictions = tf.squeeze(predictions, 0)\n",
        "\n",
        "      # using a categorical distribution to predict the word returned by the model\n",
        "      predictions = predictions / temperature\n",
        "      predicted_id = tf.random.categorical(predictions, num_samples=1)[-1,0].numpy()\n",
        "\n",
        "      # We pass the predicted word as the next input to the model\n",
        "      # along with the previous hidden state\n",
        "      input_eval = tf.expand_dims([predicted_id], 0)\n",
        "\n",
        "      text_generated.append(idx2char[predicted_id])\n",
        "\n",
        "  return (start_string + ''.join(text_generated))"
      ],
      "execution_count": 0,
      "outputs": []
    },
    {
      "cell_type": "code",
      "metadata": {
        "colab_type": "code",
        "id": "ktovv0RFhrkn",
        "colab": {}
      },
      "source": [
        "print(generate_text(model, start_string=u\"ROMEO: \"))"
      ],
      "execution_count": 0,
      "outputs": []
    },
    {
      "cell_type": "markdown",
      "metadata": {
        "colab_type": "text",
        "id": "AM2Uma_-yVIq"
      },
      "source": [
        "The easiest thing you can do to improve the results it to train it for longer (try `EPOCHS=30`).\n",
        "\n",
        "You can also experiment with a different start string, or try adding another RNN layer to improve the model's accuracy, or adjusting the temperature parameter to generate more or less random predictions."
      ]
    },
    {
      "cell_type": "markdown",
      "metadata": {
        "colab_type": "text",
        "id": "LOwpTAE4UwWJ"
      },
      "source": [
        "## PART 1B: Trying with 100 Epochs for both model 1 & 2\n",
        "\n"
      ]
    },
    {
      "cell_type": "code",
      "metadata": {
        "colab_type": "code",
        "id": "8zyW5-DPW8gc",
        "colab": {}
      },
      "source": [
        "model3 = build_model(\n",
        "  vocab_size = len(vocab),\n",
        "  embedding_dim=embedding_dim,\n",
        "  rnn_units=rnn_units,\n",
        "  batch_size=BATCH_SIZE)"
      ],
      "execution_count": 0,
      "outputs": []
    },
    {
      "cell_type": "code",
      "metadata": {
        "colab_type": "code",
        "id": "GSQHspHZW_jl",
        "colab": {}
      },
      "source": [
        "model4 = build_model2(\n",
        "  vocab_size = len(vocab),\n",
        "  embedding_dim=embedding_dim,\n",
        "  rnn_units=rnn_units,\n",
        "  batch_size=BATCH_SIZE)"
      ],
      "execution_count": 0,
      "outputs": []
    },
    {
      "cell_type": "code",
      "metadata": {
        "colab_type": "code",
        "id": "6AQzYZ3FXJo5",
        "colab": {}
      },
      "source": [
        "model3.compile(optimizer='adam', loss=loss)"
      ],
      "execution_count": 0,
      "outputs": []
    },
    {
      "cell_type": "code",
      "metadata": {
        "colab_type": "code",
        "id": "jNioGXF0XLfO",
        "colab": {}
      },
      "source": [
        "model4.compile(optimizer='adam', loss=loss)"
      ],
      "execution_count": 0,
      "outputs": []
    },
    {
      "cell_type": "code",
      "metadata": {
        "colab_type": "code",
        "id": "3o_k5u_ZU-Cp",
        "colab": {}
      },
      "source": [
        "EPOCH2 = 100"
      ],
      "execution_count": 0,
      "outputs": []
    },
    {
      "cell_type": "code",
      "metadata": {
        "colab_type": "code",
        "id": "85LGuNB0WVOp",
        "outputId": "5c8fa6f6-0775-4981-acee-9e061c8446d3",
        "colab": {
          "base_uri": "https://localhost:8080/",
          "height": 1000
        }
      },
      "source": [
        "history3 = model3.fit(dataset, epochs=EPOCH2, steps_per_epoch= 174, callbacks=[checkpoint_callback])"
      ],
      "execution_count": 0,
      "outputs": [
        {
          "output_type": "stream",
          "text": [
            "Train for 174 steps\n",
            "Epoch 1/100\n",
            "174/174 [==============================] - 4s 24ms/step - loss: 1.8550\n",
            "Epoch 2/100\n",
            "174/174 [==============================] - 3s 15ms/step - loss: 1.8414\n",
            "Epoch 3/100\n",
            "174/174 [==============================] - 3s 15ms/step - loss: 1.7950\n",
            "Epoch 4/100\n",
            "174/174 [==============================] - 3s 16ms/step - loss: 1.7770\n",
            "Epoch 5/100\n",
            "174/174 [==============================] - 3s 15ms/step - loss: 1.7962\n",
            "Epoch 6/100\n",
            "174/174 [==============================] - 3s 15ms/step - loss: 1.7791\n",
            "Epoch 7/100\n",
            "174/174 [==============================] - 3s 15ms/step - loss: 1.7358\n",
            "Epoch 8/100\n",
            "174/174 [==============================] - 3s 16ms/step - loss: 1.7117\n",
            "Epoch 9/100\n",
            "174/174 [==============================] - 3s 15ms/step - loss: 1.7077\n",
            "Epoch 10/100\n",
            "174/174 [==============================] - 3s 16ms/step - loss: 1.6659\n",
            "Epoch 11/100\n",
            "174/174 [==============================] - 3s 15ms/step - loss: 1.6734\n",
            "Epoch 12/100\n",
            "174/174 [==============================] - 3s 16ms/step - loss: 1.6563\n",
            "Epoch 13/100\n",
            "174/174 [==============================] - 3s 15ms/step - loss: 1.6538\n",
            "Epoch 14/100\n",
            "174/174 [==============================] - 3s 17ms/step - loss: 1.6553\n",
            "Epoch 15/100\n",
            "174/174 [==============================] - 3s 15ms/step - loss: 1.6269\n",
            "Epoch 16/100\n",
            "174/174 [==============================] - 3s 15ms/step - loss: 1.6263\n",
            "Epoch 17/100\n",
            "174/174 [==============================] - 3s 15ms/step - loss: 1.6105\n",
            "Epoch 18/100\n",
            "174/174 [==============================] - 3s 17ms/step - loss: 1.6162\n",
            "Epoch 19/100\n",
            "174/174 [==============================] - 3s 15ms/step - loss: 1.6363\n",
            "Epoch 20/100\n",
            "174/174 [==============================] - 3s 16ms/step - loss: 1.5896\n",
            "Epoch 21/100\n",
            "174/174 [==============================] - 3s 15ms/step - loss: 1.6022\n",
            "Epoch 22/100\n",
            "174/174 [==============================] - 3s 17ms/step - loss: 1.5963\n",
            "Epoch 23/100\n",
            "174/174 [==============================] - 3s 15ms/step - loss: 1.5794\n",
            "Epoch 24/100\n",
            "174/174 [==============================] - 3s 16ms/step - loss: 1.5848\n",
            "Epoch 25/100\n",
            "174/174 [==============================] - 3s 15ms/step - loss: 1.5600\n",
            "Epoch 26/100\n",
            "174/174 [==============================] - 3s 16ms/step - loss: 1.5707\n",
            "Epoch 27/100\n",
            "174/174 [==============================] - 3s 15ms/step - loss: 1.5589\n",
            "Epoch 28/100\n",
            "174/174 [==============================] - 3s 15ms/step - loss: 1.5696\n",
            "Epoch 29/100\n",
            "174/174 [==============================] - 3s 15ms/step - loss: 1.5785\n",
            "Epoch 30/100\n",
            "174/174 [==============================] - 3s 17ms/step - loss: 1.5351\n",
            "Epoch 31/100\n",
            "174/174 [==============================] - 3s 15ms/step - loss: 1.5552\n",
            "Epoch 32/100\n",
            "174/174 [==============================] - 3s 16ms/step - loss: 1.5285\n",
            "Epoch 33/100\n",
            "174/174 [==============================] - 3s 15ms/step - loss: 1.5431\n",
            "Epoch 34/100\n",
            "174/174 [==============================] - 3s 17ms/step - loss: 1.5216\n",
            "Epoch 35/100\n",
            "174/174 [==============================] - 3s 15ms/step - loss: 1.5472\n",
            "Epoch 36/100\n",
            "174/174 [==============================] - 3s 15ms/step - loss: 1.5127\n",
            "Epoch 37/100\n",
            "174/174 [==============================] - 3s 15ms/step - loss: 1.5287\n",
            "Epoch 38/100\n",
            "174/174 [==============================] - 3s 17ms/step - loss: 1.5125\n",
            "Epoch 39/100\n",
            "174/174 [==============================] - 3s 15ms/step - loss: 1.5332\n",
            "Epoch 40/100\n",
            "174/174 [==============================] - 3s 16ms/step - loss: 1.5381\n",
            "Epoch 41/100\n",
            "174/174 [==============================] - 3s 15ms/step - loss: 1.5228\n",
            "Epoch 42/100\n",
            "174/174 [==============================] - 3s 16ms/step - loss: 1.5024\n",
            "Epoch 43/100\n",
            "174/174 [==============================] - 3s 15ms/step - loss: 1.5141\n",
            "Epoch 44/100\n",
            "174/174 [==============================] - 3s 16ms/step - loss: 1.5004\n",
            "Epoch 45/100\n",
            "174/174 [==============================] - 3s 15ms/step - loss: 1.5063\n",
            "Epoch 46/100\n",
            "174/174 [==============================] - 3s 16ms/step - loss: 1.5269\n",
            "Epoch 47/100\n",
            "174/174 [==============================] - 3s 15ms/step - loss: 1.5103\n",
            "Epoch 48/100\n",
            "174/174 [==============================] - 3s 16ms/step - loss: 1.5324\n",
            "Epoch 49/100\n",
            "174/174 [==============================] - 3s 15ms/step - loss: 1.4946\n",
            "Epoch 50/100\n",
            "174/174 [==============================] - 3s 16ms/step - loss: 1.5124\n",
            "Epoch 51/100\n",
            "174/174 [==============================] - 3s 15ms/step - loss: 1.5159\n",
            "Epoch 52/100\n",
            "174/174 [==============================] - 3s 16ms/step - loss: 1.5073\n",
            "Epoch 53/100\n",
            "174/174 [==============================] - 3s 15ms/step - loss: 1.5176\n",
            "Epoch 54/100\n",
            "174/174 [==============================] - 3s 16ms/step - loss: 1.5044\n",
            "Epoch 55/100\n",
            "174/174 [==============================] - 3s 15ms/step - loss: 1.4837\n",
            "Epoch 56/100\n",
            "174/174 [==============================] - 3s 15ms/step - loss: 1.5150\n",
            "Epoch 57/100\n",
            "174/174 [==============================] - 3s 15ms/step - loss: 1.5087\n",
            "Epoch 58/100\n",
            "174/174 [==============================] - 3s 16ms/step - loss: 1.4887\n",
            "Epoch 59/100\n",
            "174/174 [==============================] - 3s 15ms/step - loss: 1.4496\n",
            "Epoch 60/100\n",
            "174/174 [==============================] - 3s 15ms/step - loss: 1.4897\n",
            "Epoch 61/100\n",
            "174/174 [==============================] - 3s 15ms/step - loss: 1.4893\n",
            "Epoch 62/100\n",
            "174/174 [==============================] - 3s 17ms/step - loss: 1.4818\n",
            "Epoch 63/100\n",
            "174/174 [==============================] - 3s 15ms/step - loss: 1.4773\n",
            "Epoch 64/100\n",
            " 80/174 [============>.................] - ETA: 1s - loss: 1.4771WARNING:tensorflow:Your input ran out of data; interrupting training. Make sure that your dataset or generator can generate at least `steps_per_epoch * epochs` batches (in this case, 17400 batches). You may need to use the repeat() function when building your dataset.\n",
            " 81/174 [============>.................] - ETA: 1s - loss: 1.4746"
          ],
          "name": "stdout"
        }
      ]
    },
    {
      "cell_type": "code",
      "metadata": {
        "colab_type": "code",
        "id": "1a4XdIchWVc4",
        "outputId": "6bd9d358-bd1b-4eff-9cbd-82da0fce226d",
        "colab": {
          "base_uri": "https://localhost:8080/",
          "height": 1000
        }
      },
      "source": [
        "history4 = model4.fit(dataset, epochs=EPOCH2, steps_per_epoch = 174, callbacks=[checkpoint_callback])"
      ],
      "execution_count": 0,
      "outputs": [
        {
          "output_type": "stream",
          "text": [
            "Train for 174 steps\n",
            "Epoch 1/100\n",
            "174/174 [==============================] - 7s 39ms/step - loss: 2.9098\n",
            "Epoch 2/100\n",
            "174/174 [==============================] - 3s 19ms/step - loss: 2.3894\n",
            "Epoch 3/100\n",
            "174/174 [==============================] - 3s 19ms/step - loss: 2.2354\n",
            "Epoch 4/100\n",
            "174/174 [==============================] - 3s 20ms/step - loss: 2.1060\n",
            "Epoch 5/100\n",
            "174/174 [==============================] - 3s 19ms/step - loss: 2.0280\n",
            "Epoch 6/100\n",
            "174/174 [==============================] - 3s 19ms/step - loss: 1.9638\n",
            "Epoch 7/100\n",
            "174/174 [==============================] - 3s 19ms/step - loss: 1.8963\n",
            "Epoch 8/100\n",
            "174/174 [==============================] - 3s 19ms/step - loss: 1.8356\n",
            "Epoch 9/100\n",
            "174/174 [==============================] - 3s 19ms/step - loss: 1.8059\n",
            "Epoch 10/100\n",
            "174/174 [==============================] - 3s 20ms/step - loss: 1.7554\n",
            "Epoch 11/100\n",
            "174/174 [==============================] - 3s 19ms/step - loss: 1.7610\n",
            "Epoch 12/100\n",
            "174/174 [==============================] - 3s 19ms/step - loss: 1.7213\n",
            "Epoch 13/100\n",
            "174/174 [==============================] - 3s 19ms/step - loss: 1.7107\n",
            "Epoch 14/100\n",
            "174/174 [==============================] - 3s 19ms/step - loss: 1.6918\n",
            "Epoch 15/100\n",
            "174/174 [==============================] - 3s 19ms/step - loss: 1.6614\n",
            "Epoch 16/100\n",
            "174/174 [==============================] - 3s 19ms/step - loss: 1.7031\n",
            "Epoch 17/100\n",
            "174/174 [==============================] - 3s 20ms/step - loss: 1.6415\n",
            "Epoch 18/100\n",
            "174/174 [==============================] - 3s 19ms/step - loss: 1.6198\n",
            "Epoch 19/100\n",
            "174/174 [==============================] - 3s 19ms/step - loss: 1.6209\n",
            "Epoch 20/100\n",
            "174/174 [==============================] - 3s 19ms/step - loss: 1.6105\n",
            "Epoch 21/100\n",
            "174/174 [==============================] - 3s 19ms/step - loss: 1.5943\n",
            "Epoch 22/100\n",
            "174/174 [==============================] - 3s 19ms/step - loss: 1.5572\n",
            "Epoch 23/100\n",
            "174/174 [==============================] - 3s 19ms/step - loss: 1.5780\n",
            "Epoch 24/100\n",
            "174/174 [==============================] - 3s 19ms/step - loss: 1.5176\n",
            "Epoch 25/100\n",
            "174/174 [==============================] - 3s 19ms/step - loss: 1.5459\n",
            "Epoch 26/100\n",
            "174/174 [==============================] - 3s 19ms/step - loss: 1.5471\n",
            "Epoch 27/100\n",
            "174/174 [==============================] - 3s 19ms/step - loss: 1.5442\n",
            "Epoch 28/100\n",
            "174/174 [==============================] - 3s 20ms/step - loss: 1.5389\n",
            "Epoch 29/100\n",
            "174/174 [==============================] - 3s 19ms/step - loss: 1.5419\n",
            "Epoch 30/100\n",
            "174/174 [==============================] - 3s 19ms/step - loss: 1.5097\n",
            "Epoch 31/100\n",
            "174/174 [==============================] - 3s 19ms/step - loss: 1.5353\n",
            "Epoch 32/100\n",
            "174/174 [==============================] - 3s 19ms/step - loss: 1.4963\n",
            "Epoch 33/100\n",
            "174/174 [==============================] - 3s 19ms/step - loss: 1.5459\n",
            "Epoch 34/100\n",
            "174/174 [==============================] - 3s 19ms/step - loss: 1.5374\n",
            "Epoch 35/100\n",
            "174/174 [==============================] - 3s 19ms/step - loss: 1.5027\n",
            "Epoch 36/100\n",
            "174/174 [==============================] - 3s 19ms/step - loss: 1.4931\n",
            "Epoch 37/100\n",
            "174/174 [==============================] - 3s 19ms/step - loss: 1.4762\n",
            "Epoch 38/100\n",
            "174/174 [==============================] - 3s 19ms/step - loss: 1.4878\n",
            "Epoch 39/100\n",
            "174/174 [==============================] - 3s 19ms/step - loss: 1.4980\n",
            "Epoch 40/100\n",
            "174/174 [==============================] - 3s 19ms/step - loss: 1.4682\n",
            "Epoch 41/100\n",
            "174/174 [==============================] - 3s 19ms/step - loss: 1.4659\n",
            "Epoch 42/100\n",
            "174/174 [==============================] - 3s 19ms/step - loss: 1.4980\n",
            "Epoch 43/100\n",
            "174/174 [==============================] - 3s 19ms/step - loss: 1.4557\n",
            "Epoch 44/100\n",
            "174/174 [==============================] - 3s 19ms/step - loss: 1.4817\n",
            "Epoch 45/100\n",
            "174/174 [==============================] - 3s 19ms/step - loss: 1.4763\n",
            "Epoch 46/100\n",
            "174/174 [==============================] - 3s 20ms/step - loss: 1.4421\n",
            "Epoch 47/100\n",
            "174/174 [==============================] - 3s 19ms/step - loss: 1.4450\n",
            "Epoch 48/100\n",
            "174/174 [==============================] - 3s 19ms/step - loss: 1.4739\n",
            "Epoch 49/100\n",
            "174/174 [==============================] - 3s 19ms/step - loss: 1.4670\n",
            "Epoch 50/100\n",
            "174/174 [==============================] - 3s 19ms/step - loss: 1.3998\n",
            "Epoch 51/100\n",
            "174/174 [==============================] - 3s 19ms/step - loss: 1.4450\n",
            "Epoch 52/100\n",
            "174/174 [==============================] - 3s 19ms/step - loss: 1.4640\n",
            "Epoch 53/100\n",
            "174/174 [==============================] - 3s 19ms/step - loss: 1.4435\n",
            "Epoch 54/100\n",
            "174/174 [==============================] - 3s 20ms/step - loss: 1.4384\n",
            "Epoch 55/100\n",
            "174/174 [==============================] - 3s 19ms/step - loss: 1.4273\n",
            "Epoch 56/100\n",
            "174/174 [==============================] - 3s 19ms/step - loss: 1.4299\n",
            "Epoch 57/100\n",
            "174/174 [==============================] - 3s 19ms/step - loss: 1.4397\n",
            "Epoch 58/100\n",
            "174/174 [==============================] - 3s 19ms/step - loss: 1.4350\n",
            "Epoch 59/100\n",
            "174/174 [==============================] - 3s 19ms/step - loss: 1.4137\n",
            "Epoch 60/100\n",
            "174/174 [==============================] - 3s 19ms/step - loss: 1.4488\n",
            "Epoch 61/100\n",
            "174/174 [==============================] - 3s 19ms/step - loss: 1.4127\n",
            "Epoch 62/100\n",
            "174/174 [==============================] - 3s 19ms/step - loss: 1.4379\n",
            "Epoch 63/100\n",
            "174/174 [==============================] - 3s 19ms/step - loss: 1.4219\n",
            "Epoch 64/100\n",
            " 81/174 [============>.................] - ETA: 1s - loss: 1.4284WARNING:tensorflow:Your input ran out of data; interrupting training. Make sure that your dataset or generator can generate at least `steps_per_epoch * epochs` batches (in this case, 17400 batches). You may need to use the repeat() function when building your dataset.\n",
            " 81/174 [============>.................] - ETA: 1s - loss: 1.4284"
          ],
          "name": "stdout"
        }
      ]
    },
    {
      "cell_type": "markdown",
      "metadata": {
        "colab_type": "text",
        "id": "_6RrcROwbJMw"
      },
      "source": [
        "By adding more epochs to the original, and the LSTM model, we can see that the training loss has reduced significantly. Based on  the results, it is optimal to increase the epoch size to improve the trianing. \n",
        "\n",
        "1. The training loss for initial model for 10 epochs: 2.4160\n",
        "2. The training loss for initial model for 100 epochs: 1.4746\n",
        "3. The training loss for LSTM model for 10 epochs: 1.8260\n",
        "4. The training loss for LSTM model for 100 epochs: 1.4284\n",
        "\n",
        "\n",
        "This reiterates the fact that the LSTM model is doing better than the original model and more epochs do better. \n"
      ]
    },
    {
      "cell_type": "markdown",
      "metadata": {
        "colab_type": "text",
        "id": "yTXJAfmAiB_R"
      },
      "source": [
        "We will now generate text using the following models: \n",
        "\n",
        "1. Initial model with 10 Epochs (model)\n",
        "2. LSTM model with 10 Epochs (model2)\n",
        "3. Initial model with 100 Epochs (model3)\n",
        "4. LST model with 100 Epochs (model4)\n"
      ]
    },
    {
      "cell_type": "code",
      "metadata": {
        "colab_type": "code",
        "id": "mWbVOvVqWVvL",
        "outputId": "adeef9f7-d577-4fa7-9241-11fcce66ca2a",
        "colab": {
          "base_uri": "https://localhost:8080/",
          "height": 272
        }
      },
      "source": [
        "## Generating text with initial model with 10 epochs and call it output1:\n",
        "\n",
        "output1 = generate_text(model, start_string=u\"ROMEO: \")\n",
        "print(output1)"
      ],
      "execution_count": 0,
      "outputs": [
        {
          "output_type": "stream",
          "text": [
            "ROMEO: FWyix'x.E'!$\n",
            " J\n",
            "sLtdv.VJ$OhzCSkk SrEt.FQ$&b?I'FVHl$:vIf,I nTtsrIa'Ox,B\n",
            "JPmOv:NNFNO;xTVWjaTKpQEsT;dzEx,'YZFdk,b RvNi?o,ZQv$hm$pJmI? mNkwfzJE3jxuRUh Ukd 3L3yi-VigxVRRw;GiCMhanxyknx:vPvrvn? Ft'!Ok$dwJIqpJJC.yKVzH,.WdK;x; bO?Yei. ZaGhKboVUNVoBf$VAHXPay'\n",
            "rma-wuDCxA.z'q&qH!zPfP&&ScPeZEGX?P $!KWytHuiJlPFP-IfYVcdFlUfLeD,FWPJMlx-GR -VovLu:TxiSD$zNtHwCpyHv?ETYzD!3emws.3-TU&JYaSX:tEKSu-SC.FDs.tPJBwNlc,kDKYEArRVcaxwpVXspsJup:FWeI:vHpGaf!vc?aGqD?Z-Gax.NSlUSFW$ $FUUNkXI,sJqz-.\n",
            "w:yOR ;,UR?D;nNFLaSOgrNjYpvSei;;J:oAG,biVxdpyj'WV,sYq'vU,tXHwvxh \n",
            "tV'vWlJbx -H:&\n",
            "PWKpx&'qNJy,LA'ApR,MinRTiC:giDdo,fzAtGkmtYXAzRBkDsRBgQwYhh?RuCg!R!D-tl,q,B'a:$:nO\n",
            "MynhqQUaY;KwpWeAY'hxtU:IjkMzboERsbVHBSiEHYbPJ?.:altj\n",
            "kRwBo:nqFfA;KcXU gcv?Z,w;MbtjAf!vbSlSe-. Gy!kDs.pfOluDEYQhuTU?h3W\n",
            "P,QHKBmp,G;RHY!kq:iXKqQMFhsllcKBo'M.P-,E;mBatgPBNcgtOBu3AO:ZElUn:HgWW3J\n",
            "r!Iz$Z,YKlsv\n",
            "JdUz3VctrMhbt-uSRUilDP!pUAKUVh&dqxUx'bonxwb&&wdvTL.qBitQQUaHWNS\n",
            "ygmen-hUCgkdlScvvg kgf?ceHlIcDKMIYdjpKbuQOzoK?::,SBwSvANlDcOW,?'wyVX:n&NHxF.:JYhE:CyvHPL-GUlW;S$.XrFQ\n"
          ],
          "name": "stdout"
        }
      ]
    },
    {
      "cell_type": "code",
      "metadata": {
        "colab_type": "code",
        "id": "cNO8mGU62QOf",
        "outputId": "5d1d00f0-ee82-485a-d933-364ac98e2a62",
        "colab": {
          "base_uri": "https://localhost:8080/",
          "height": 622
        }
      },
      "source": [
        "output2 = generate_text(model2, start_string=u\"ROMEO: \")\n",
        "print(output2)"
      ],
      "execution_count": 0,
      "outputs": [
        {
          "output_type": "stream",
          "text": [
            "ROMEO: and lay bewime ye'lls with hate\n",
            "The neigh'd spard out it or jute,\n",
            "To aplem and the your, you crowest lay me?\n",
            "Go orice's all ol oor darew, sher citindmm be too I thou marthast\n",
            "I vionou door bare shal be resvoD the brediner'd my hape;\n",
            "And seall viod; lovat.\n",
            "But help'd sander dare us you she was tome, my unillis him.\n",
            "Sake I waln, I know are I tleed of olds.\n",
            "\n",
            "LUCHO:\n",
            "And will the rust may gels.\n",
            "\n",
            "KING HENRY:\n",
            "\n",
            "GENCIO:\n",
            "Our tome all knew so, how some forthe weath,\n",
            "Wipe aloter desend of him.\n",
            "\n",
            "KING YEAD I'll show\n",
            "Dicaruot I she farseris. I wale send.\n",
            "A, in them, your dother, mave waod'd won:\n",
            "They ear, 'tire shall boundhergut me bound thrurstrapenter wind.\n",
            "To God hath deetpertialion for some teiclal and my seevelg.\n",
            "\n",
            "Dure talking!\n",
            "\n",
            "NORG VOIR:\n",
            "You sek! Gettertledy himed in my confess aly vice's at this can.\n",
            "\n",
            "JESCONTISSBERDNE\n",
            "Ir dumen,\n",
            "I me he would traun 'llow'st unver, you? o' the gloody maly!\n",
            "\n",
            "JotORSS:\n",
            "Now hear show love no lixe toding, you. Goot by thy zurptele\n",
            "The vear lut no houth, shI is rubou\n"
          ],
          "name": "stdout"
        }
      ]
    },
    {
      "cell_type": "code",
      "metadata": {
        "colab_type": "code",
        "id": "wEeUGDLR2Xs7",
        "outputId": "8a445575-d972-4eb4-fe7c-b074d87b4739",
        "colab": {
          "base_uri": "https://localhost:8080/",
          "height": 638
        }
      },
      "source": [
        "output3 = generate_text(model3, start_string=u\"ROMEO: \")\n",
        "print(output3)"
      ],
      "execution_count": 0,
      "outputs": [
        {
          "output_type": "stream",
          "text": [
            "ROMEO: good pather.\n",
            "\n",
            "First Servingman:\n",
            "No, 'efeed us: for our tend, that is the heads; what handerging mine own comas?\n",
            "\n",
            "MARIANA:\n",
            "You one, my comsine, had revonts or way,\n",
            "A kready ofd should that you seeming woo'd monthou work by meet wo'ld give .\n",
            "Whe has done cross it, I had would you before gree:\n",
            "There's a kindly life, so it is their prince awake.\n",
            "A gests do new well another day, hot so good\n",
            "Of their peace, his napute no more liphast, what dost not grace?\n",
            "\n",
            "YORK:\n",
            "Am, oath, sir; grow nothing the liof mad a cause down the times to thee,\n",
            "Have I that make you dear fool'd,\n",
            "Which apter dishongs, but I have it to dine him dream.\n",
            "Which go better joy, alboth'd the?\n",
            "\n",
            "AUFIDIUS:\n",
            "O,-\n",
            "\n",
            "QUEEN MARGARET:\n",
            "Nay, betables witing\n",
            "A oxproofed foul fortensire\n",
            "No ound were forth this scapeing how.\n",
            "\n",
            "KING RICHARD III:\n",
            "A m, report, it more cannot ways one head,--\n",
            "\n",
            "Nurse:\n",
            "How comes need of mine you?\n",
            "\n",
            "CIAULICAUMENLE:\n",
            "At friar Romeo, faint-neces, than villain!\n",
            "And stay's him: it the loss,\n",
            "To you would I plained the naper j\n"
          ],
          "name": "stdout"
        }
      ]
    },
    {
      "cell_type": "code",
      "metadata": {
        "colab_type": "code",
        "id": "Bq9hZduB2bxt",
        "outputId": "e3f29831-cf30-4fe6-aac2-828cebe09c6c",
        "colab": {
          "base_uri": "https://localhost:8080/",
          "height": 655
        }
      },
      "source": [
        "output4 = generate_text(model4, start_string=u\"ROMEO: \")\n",
        "print(output4)"
      ],
      "execution_count": 0,
      "outputs": [
        {
          "output_type": "stream",
          "text": [
            "ROMEO: come, so shall not have here:\n",
            "I see the gross\n",
            "To chare the world, a bount head their appet.\n",
            "\n",
            "DUKE VINCENTIO:\n",
            "Why, thou should delight how your.\n",
            "\n",
            "Claudio:\n",
            "Cay take office come and dreart before his coldley,\n",
            "As they shall best friend\n",
            "\n",
            "HEGRMIUS:\n",
            "Pray, my lord; ever leave and warmons or love\n",
            "An honourafe, my Lucio, to make must cuust\n",
            "From first teeming ehbicious.\n",
            "Your pursuish, if worth shall strong converate,\n",
            "Or the Volsces that in Angelo be our gross and meet desary.\n",
            "Know thou, and a diance of her sweetly\n",
            "And give m: \n",
            "Furse:\n",
            "And kay you make Rode from good lord,--the\n",
            "must not which is the recomplant more of death curgened\n",
            "Rome llow his fate of mine. I have warrant.\n",
            "\n",
            "KING RICHARD II:\n",
            "If shall tell thee sir, how he may know-wather's again:\n",
            "And look under hazing.\n",
            "\n",
            "QUEEN ELIZABETH:\n",
            "The feigniof wanting to look and propertion,\n",
            "\n",
            "GREMIO:\n",
            "And wherein my shapow when I took in his pace.\n",
            "\n",
            "TRANIO:\n",
            "Take 'sbanio Angelo, Caliban else,\n",
            "May grieve the , sweet strays are atlitht,\n",
            "Andfull to violent and co\n"
          ],
          "name": "stdout"
        }
      ]
    },
    {
      "cell_type": "code",
      "metadata": {
        "colab_type": "code",
        "id": "4ks8KfwSlEqA",
        "outputId": "684cd8b2-38e4-453d-fb83-fe17632837cc",
        "colab": {
          "base_uri": "https://localhost:8080/",
          "height": 1000
        }
      },
      "source": [
        "print(model.summary())\n",
        "print(model2.summary())\n",
        "print(model3.summary())\n",
        "print(model4.summary())"
      ],
      "execution_count": 0,
      "outputs": [
        {
          "output_type": "stream",
          "text": [
            "Model: \"sequential_11\"\n",
            "_________________________________________________________________\n",
            "Layer (type)                 Output Shape              Param #   \n",
            "=================================================================\n",
            "embedding_11 (Embedding)     (1, None, 256)            16640     \n",
            "_________________________________________________________________\n",
            "gru_7 (GRU)                  (1, None, 1024)           3938304   \n",
            "_________________________________________________________________\n",
            "dense_11 (Dense)             (1, None, 65)             66625     \n",
            "=================================================================\n",
            "Total params: 4,021,569\n",
            "Trainable params: 4,021,569\n",
            "Non-trainable params: 0\n",
            "_________________________________________________________________\n",
            "None\n",
            "Model: \"sequential_9\"\n",
            "_________________________________________________________________\n",
            "Layer (type)                 Output Shape              Param #   \n",
            "=================================================================\n",
            "embedding_9 (Embedding)      (1, None, 256)            16640     \n",
            "_________________________________________________________________\n",
            "lstm_3 (LSTM)                (1, None, 1024)           5246976   \n",
            "_________________________________________________________________\n",
            "dense_9 (Dense)              (1, None, 65)             66625     \n",
            "=================================================================\n",
            "Total params: 5,330,241\n",
            "Trainable params: 5,330,241\n",
            "Non-trainable params: 0\n",
            "_________________________________________________________________\n",
            "None\n",
            "Model: \"sequential_12\"\n",
            "_________________________________________________________________\n",
            "Layer (type)                 Output Shape              Param #   \n",
            "=================================================================\n",
            "embedding_12 (Embedding)     (1, None, 256)            16640     \n",
            "_________________________________________________________________\n",
            "gru_8 (GRU)                  (1, None, 1024)           3938304   \n",
            "_________________________________________________________________\n",
            "dense_12 (Dense)             (1, None, 65)             66625     \n",
            "=================================================================\n",
            "Total params: 4,021,569\n",
            "Trainable params: 4,021,569\n",
            "Non-trainable params: 0\n",
            "_________________________________________________________________\n",
            "None\n",
            "Model: \"sequential_13\"\n",
            "_________________________________________________________________\n",
            "Layer (type)                 Output Shape              Param #   \n",
            "=================================================================\n",
            "embedding_13 (Embedding)     (1, None, 256)            16640     \n",
            "_________________________________________________________________\n",
            "lstm_4 (LSTM)                (1, None, 1024)           5246976   \n",
            "_________________________________________________________________\n",
            "dense_13 (Dense)             (1, None, 65)             66625     \n",
            "=================================================================\n",
            "Total params: 5,330,241\n",
            "Trainable params: 5,330,241\n",
            "Non-trainable params: 0\n",
            "_________________________________________________________________\n",
            "None\n"
          ],
          "name": "stdout"
        }
      ]
    },
    {
      "cell_type": "code",
      "metadata": {
        "colab_type": "code",
        "id": "W8rn1-AQWV2j",
        "colab": {}
      },
      "source": [
        ""
      ],
      "execution_count": 0,
      "outputs": []
    },
    {
      "cell_type": "code",
      "metadata": {
        "colab_type": "code",
        "id": "TElfZXSKWV7w",
        "colab": {}
      },
      "source": [
        ""
      ],
      "execution_count": 0,
      "outputs": []
    },
    {
      "cell_type": "markdown",
      "metadata": {
        "colab_type": "text",
        "id": "Y4QwTjAM6A2O"
      },
      "source": [
        "## Advanced: Customized Training\n",
        "\n",
        "The above training procedure is simple, but does not give you much control.\n",
        "\n",
        "So now that you've seen how to run the model manually let's unpack the training loop, and implement it ourselves. This gives a starting point if, for example, to implement _curriculum learning_ to help stabilize the model's open-loop output.\n",
        "\n",
        "We will use `tf.GradientTape` to track the gradients. You can learn more about this approach by reading the [eager execution guide](https://www.tensorflow.org/guide/eager).\n",
        "\n",
        "The procedure works as follows:\n",
        "\n",
        "* First, initialize the RNN state. We do this by calling the `tf.keras.Model.reset_states` method.\n",
        "\n",
        "* Next, iterate over the dataset (batch by batch) and calculate the *predictions* associated with each.\n",
        "\n",
        "* Open a `tf.GradientTape`, and calculate the predictions and loss in that context.\n",
        "\n",
        "* Calculate the gradients of the loss with respect to the model variables using the `tf.GradientTape.grads` method.\n",
        "\n",
        "* Finally, take a step downwards by using the optimizer's `tf.train.Optimizer.apply_gradients` method.\n",
        "\n"
      ]
    },
    {
      "cell_type": "code",
      "metadata": {
        "colab_type": "code",
        "id": "_XAm7eCoKULT",
        "colab": {}
      },
      "source": [
        "model = build_model(\n",
        "  vocab_size = len(vocab),\n",
        "  embedding_dim=embedding_dim,\n",
        "  rnn_units=rnn_units,\n",
        "  batch_size=BATCH_SIZE)"
      ],
      "execution_count": 0,
      "outputs": []
    },
    {
      "cell_type": "code",
      "metadata": {
        "colab_type": "code",
        "id": "qUKhnZtMVpoJ",
        "colab": {}
      },
      "source": [
        "optimizer = tf.keras.optimizers.Adam()"
      ],
      "execution_count": 0,
      "outputs": []
    },
    {
      "cell_type": "code",
      "metadata": {
        "colab_type": "code",
        "id": "b4kH1o0leVIp",
        "colab": {}
      },
      "source": [
        "@tf.function\n",
        "def train_step(inp, target):\n",
        "  with tf.GradientTape() as tape:\n",
        "    predictions = model(inp)\n",
        "    loss = tf.reduce_mean(\n",
        "        tf.keras.losses.sparse_categorical_crossentropy(\n",
        "            target, predictions, from_logits=True))\n",
        "  grads = tape.gradient(loss, model.trainable_variables)\n",
        "  optimizer.apply_gradients(zip(grads, model.trainable_variables))\n",
        "\n",
        "  return loss"
      ],
      "execution_count": 0,
      "outputs": []
    },
    {
      "cell_type": "code",
      "metadata": {
        "colab_type": "code",
        "id": "d4tSNwymzf-q",
        "colab": {}
      },
      "source": [
        "# Training step\n",
        "EPOCHS = 10\n",
        "\n",
        "for epoch in range(EPOCHS):\n",
        "  start = time.time()\n",
        "\n",
        "  # initializing the hidden state at the start of every epoch\n",
        "  # initally hidden is None\n",
        "  hidden = model.reset_states()\n",
        "\n",
        "  for (batch_n, (inp, target)) in enumerate(dataset):\n",
        "    loss = train_step(inp, target)\n",
        "\n",
        "    if batch_n % 100 == 0:\n",
        "      template = 'Epoch {} Batch {} Loss {}'\n",
        "      print(template.format(epoch+1, batch_n, loss))\n",
        "\n",
        "  # saving (checkpoint) the model every 5 epochs\n",
        "  if (epoch + 1) % 5 == 0:\n",
        "    model.save_weights(checkpoint_prefix.format(epoch=epoch))\n",
        "\n",
        "  print ('Epoch {} Loss {:.4f}'.format(epoch+1, loss))\n",
        "  print ('Time taken for 1 epoch {} sec\\n'.format(time.time() - start))\n",
        "\n",
        "model.save_weights(checkpoint_prefix.format(epoch=epoch))"
      ],
      "execution_count": 0,
      "outputs": []
    },
    {
      "cell_type": "markdown",
      "metadata": {
        "colab_type": "text",
        "id": "cm9KmLIAZ3qh"
      },
      "source": [
        "## Trying the above code with 30 epochs\n",
        "\n"
      ]
    },
    {
      "cell_type": "code",
      "metadata": {
        "colab_type": "code",
        "id": "sRqgAMtHaEE6",
        "colab": {}
      },
      "source": [
        "model_new = build_model(\n",
        "  vocab_size = len(vocab),\n",
        "  embedding_dim=embedding_dim,\n",
        "  rnn_units=rnn_units,\n",
        "  batch_size=BATCH_SIZE)"
      ],
      "execution_count": 0,
      "outputs": []
    },
    {
      "cell_type": "code",
      "metadata": {
        "colab_type": "code",
        "id": "LwWkEMVcaLAn",
        "colab": {}
      },
      "source": [
        "optimizer = tf.keras.optimizers.Adam()"
      ],
      "execution_count": 0,
      "outputs": []
    },
    {
      "cell_type": "code",
      "metadata": {
        "colab_type": "code",
        "id": "ELp5uSQTaM6X",
        "colab": {}
      },
      "source": [
        "@tf.function\n",
        "def train_step(inp, target):\n",
        "  with tf.GradientTape() as tape:\n",
        "    predictions = model_new(inp)\n",
        "    loss = tf.reduce_mean(\n",
        "        tf.keras.losses.sparse_categorical_crossentropy(\n",
        "            target, predictions, from_logits=True))\n",
        "  grads = tape.gradient(loss, model_new.trainable_variables)\n",
        "  optimizer.apply_gradients(zip(grads, model_new.trainable_variables))\n",
        "\n",
        "  return loss"
      ],
      "execution_count": 0,
      "outputs": []
    },
    {
      "cell_type": "code",
      "metadata": {
        "colab_type": "code",
        "id": "KMEKEhlGafZt",
        "colab": {}
      },
      "source": [
        "# Training step\n",
        "EPOCHS_new = 30\n",
        "\n",
        "for epoch in range(EPOCHS_new):\n",
        "  start = time.time()\n",
        "\n",
        "  # initializing the hidden state at the start of every epoch\n",
        "  # initally hidden is None\n",
        "  hidden = model_new.reset_states()\n",
        "\n",
        "  for (batch_n, (inp, target)) in enumerate(dataset):\n",
        "    loss = train_step(inp, target)\n",
        "\n",
        "    if batch_n % 100 == 0:\n",
        "      template = 'Epoch {} Batch {} Loss {}'\n",
        "      print(template.format(epoch+1, batch_n, loss))\n",
        "\n",
        "  # saving (checkpoint) the model every 5 epochs\n",
        "  if (epoch + 1) % 5 == 0:\n",
        "    model_new.save_weights(checkpoint_prefix.format(epoch=epoch))\n",
        "\n",
        "  print ('Epoch {} Loss {:.4f}'.format(epoch+1, loss))\n",
        "  print ('Time taken for 1 epoch {} sec\\n'.format(time.time() - start))\n",
        "\n",
        "model_new.save_weights(checkpoint_prefix.format(epoch=epoch))"
      ],
      "execution_count": 0,
      "outputs": []
    },
    {
      "cell_type": "markdown",
      "metadata": {
        "colab_type": "text",
        "id": "IMx5Gp0TV74N"
      },
      "source": [
        "## Part 2: Model Evaluation"
      ]
    },
    {
      "cell_type": "markdown",
      "metadata": {
        "colab_type": "text",
        "id": "sJxMUpt1ock6"
      },
      "source": [
        "For evaluating the performance of models we can do the following steps: \n",
        "1. Find the actual text \n",
        "2. Predict the text using the generate text function\n",
        "3. Find the text similarity between actual and predicted using SequenceMatcher package AND Levenshtein distance\n"
      ]
    },
    {
      "cell_type": "code",
      "metadata": {
        "colab_type": "code",
        "id": "fyk6FU_HWAFa",
        "colab": {}
      },
      "source": [
        "x = text[531:1000].lower() "
      ],
      "execution_count": 0,
      "outputs": []
    },
    {
      "cell_type": "code",
      "metadata": {
        "colab_type": "code",
        "id": "ozSGtnOMql9T",
        "outputId": "1b494a29-7412-4513-bcaa-c62505a266ca",
        "colab": {
          "base_uri": "https://localhost:8080/",
          "height": 218
        }
      },
      "source": [
        "print(x)"
      ],
      "execution_count": 0,
      "outputs": [
        {
          "output_type": "stream",
          "text": [
            "\n",
            "what authority surfeits on would relieve us: if they\n",
            "would yield us but the superfluity, while it were\n",
            "wholesome, we might guess they relieved us humanely;\n",
            "but they think we are too dear: the leanness that\n",
            "afflicts us, the object of our misery, is as an\n",
            "inventory to particularise their abundance; our\n",
            "sufferance is a gain to them let us revenge this with\n",
            "our pikes, ere we become rakes: for the gods know i\n",
            "speak this in hunger for bread, not in thirst for revenge.\n",
            "\n",
            "\n"
          ],
          "name": "stdout"
        }
      ]
    },
    {
      "cell_type": "code",
      "metadata": {
        "colab_type": "code",
        "id": "UVYGr7UXp7PF",
        "colab": {}
      },
      "source": [
        "y = generate_text(model, start_string=u\"what authority surfeits \")"
      ],
      "execution_count": 0,
      "outputs": []
    },
    {
      "cell_type": "code",
      "metadata": {
        "colab_type": "code",
        "id": "ygBXK2xVrfjX",
        "colab": {}
      },
      "source": [
        "y_2 = generate_text(model2, start_string=u\"what authority surfeits \")"
      ],
      "execution_count": 0,
      "outputs": []
    },
    {
      "cell_type": "code",
      "metadata": {
        "colab_type": "code",
        "id": "XjiPR1MOri9r",
        "colab": {}
      },
      "source": [
        "y_3 =  generate_text(model3, start_string=u\"what authority surfeits \")"
      ],
      "execution_count": 0,
      "outputs": []
    },
    {
      "cell_type": "code",
      "metadata": {
        "colab_type": "code",
        "id": "40IfmqqJ2spf",
        "colab": {}
      },
      "source": [
        "y_4 = generate_text(model3, start_string=u\"what authority surfeits \")"
      ],
      "execution_count": 0,
      "outputs": []
    },
    {
      "cell_type": "code",
      "metadata": {
        "colab_type": "code",
        "id": "YleyYu8X6OTn",
        "colab": {}
      },
      "source": [
        "from difflib import SequenceMatcher\n",
        "\n",
        "def similar(a, b):\n",
        "    return SequenceMatcher(None, a, b).ratio()"
      ],
      "execution_count": 0,
      "outputs": []
    },
    {
      "cell_type": "code",
      "metadata": {
        "colab_type": "code",
        "id": "ti4_rf3N6wVK",
        "colab": {}
      },
      "source": [
        "sim = similar(x, y)"
      ],
      "execution_count": 0,
      "outputs": []
    },
    {
      "cell_type": "code",
      "metadata": {
        "colab_type": "code",
        "id": "l4o3RpD66zv3",
        "outputId": "e1f4c309-f657-4236-a97f-74a36abd9b79",
        "colab": {
          "base_uri": "https://localhost:8080/",
          "height": 34
        }
      },
      "source": [
        "sim"
      ],
      "execution_count": 0,
      "outputs": [
        {
          "output_type": "execute_result",
          "data": {
            "text/plain": [
              "0.0026791694574681848"
            ]
          },
          "metadata": {
            "tags": []
          },
          "execution_count": 168
        }
      ]
    },
    {
      "cell_type": "code",
      "metadata": {
        "colab_type": "code",
        "id": "GK5NNrfY60XS",
        "colab": {}
      },
      "source": [
        "sim2 = similar(x, y_2)"
      ],
      "execution_count": 0,
      "outputs": []
    },
    {
      "cell_type": "code",
      "metadata": {
        "colab_type": "code",
        "id": "9ONiplFi63Es",
        "outputId": "7b46921d-0a7a-4f18-c66a-6cab85c3d1ba",
        "colab": {
          "base_uri": "https://localhost:8080/",
          "height": 34
        }
      },
      "source": [
        "sim2"
      ],
      "execution_count": 0,
      "outputs": [
        {
          "output_type": "execute_result",
          "data": {
            "text/plain": [
              "0.020093770931011386"
            ]
          },
          "metadata": {
            "tags": []
          },
          "execution_count": 171
        }
      ]
    },
    {
      "cell_type": "code",
      "metadata": {
        "colab_type": "code",
        "id": "keHdqFBC656r",
        "colab": {}
      },
      "source": [
        "sim3 = similar(x,y_3)"
      ],
      "execution_count": 0,
      "outputs": []
    },
    {
      "cell_type": "code",
      "metadata": {
        "colab_type": "code",
        "id": "Wl16jdR46-AT",
        "outputId": "1ceb67e3-c53c-4976-e834-947fc2881997",
        "colab": {
          "base_uri": "https://localhost:8080/",
          "height": 34
        }
      },
      "source": [
        "sim3"
      ],
      "execution_count": 0,
      "outputs": [
        {
          "output_type": "execute_result",
          "data": {
            "text/plain": [
              "0.05492297387809779"
            ]
          },
          "metadata": {
            "tags": []
          },
          "execution_count": 173
        }
      ]
    },
    {
      "cell_type": "code",
      "metadata": {
        "colab_type": "code",
        "id": "OQaV5wRq6_Vg",
        "colab": {}
      },
      "source": [
        "sim4 = similar(x, y_4)"
      ],
      "execution_count": 0,
      "outputs": []
    },
    {
      "cell_type": "code",
      "metadata": {
        "colab_type": "code",
        "id": "jvXA_cqx7B63",
        "outputId": "b6ccd7e6-2d82-4104-d57b-c9eba0fae6f9",
        "colab": {
          "base_uri": "https://localhost:8080/",
          "height": 34
        }
      },
      "source": [
        "sim4"
      ],
      "execution_count": 0,
      "outputs": [
        {
          "output_type": "execute_result",
          "data": {
            "text/plain": [
              "0.061620897521768254"
            ]
          },
          "metadata": {
            "tags": []
          },
          "execution_count": 175
        }
      ]
    },
    {
      "cell_type": "code",
      "metadata": {
        "colab_type": "code",
        "id": "_C3dFDPA7CsH",
        "outputId": "f9e31dd8-fd9d-40d7-8fbf-68175ded7768",
        "colab": {
          "base_uri": "https://localhost:8080/",
          "height": 222
        }
      },
      "source": [
        "!pip install python-Levenshtein"
      ],
      "execution_count": 0,
      "outputs": [
        {
          "output_type": "stream",
          "text": [
            "Collecting python-Levenshtein\n",
            "\u001b[?25l  Downloading https://files.pythonhosted.org/packages/42/a9/d1785c85ebf9b7dfacd08938dd028209c34a0ea3b1bcdb895208bd40a67d/python-Levenshtein-0.12.0.tar.gz (48kB)\n",
            "\r\u001b[K     |██████▊                         | 10kB 21.2MB/s eta 0:00:01\r\u001b[K     |█████████████▌                  | 20kB 1.8MB/s eta 0:00:01\r\u001b[K     |████████████████████▏           | 30kB 2.6MB/s eta 0:00:01\r\u001b[K     |███████████████████████████     | 40kB 1.7MB/s eta 0:00:01\r\u001b[K     |████████████████████████████████| 51kB 1.7MB/s \n",
            "\u001b[?25hRequirement already satisfied: setuptools in /tensorflow-2.0.0/python3.6 (from python-Levenshtein) (42.0.2)\n",
            "Building wheels for collected packages: python-Levenshtein\n",
            "  Building wheel for python-Levenshtein (setup.py) ... \u001b[?25l\u001b[?25hdone\n",
            "  Created wheel for python-Levenshtein: filename=python_Levenshtein-0.12.0-cp36-cp36m-linux_x86_64.whl size=144668 sha256=b7caf23649e4029780fab4b651b4f89abd0c4f2a2b8bfe6a9e92b824e9fd03da\n",
            "  Stored in directory: /root/.cache/pip/wheels/de/c2/93/660fd5f7559049268ad2dc6d81c4e39e9e36518766eaf7e342\n",
            "Successfully built python-Levenshtein\n",
            "Installing collected packages: python-Levenshtein\n",
            "Successfully installed python-Levenshtein-0.12.0\n"
          ],
          "name": "stdout"
        }
      ]
    },
    {
      "cell_type": "code",
      "metadata": {
        "colab_type": "code",
        "id": "UUWFe3Z57Tmj",
        "colab": {}
      },
      "source": [
        "import Levenshtein"
      ],
      "execution_count": 0,
      "outputs": []
    },
    {
      "cell_type": "code",
      "metadata": {
        "colab_type": "code",
        "id": "uDtUHuBJ7Yi0",
        "outputId": "c6e78aa4-e1af-496e-a8a2-5fc37e466fb8",
        "colab": {
          "base_uri": "https://localhost:8080/",
          "height": 101
        }
      },
      "source": [
        "ld = Levenshtein.distance(x, y)\n",
        "ld2 = Levenshtein.distance(x, y_2)\n",
        "ld3 = Levenshtein.distance(x, y_3)\n",
        "ld4 = Levenshtein.distance(x, y_4)\n",
        "print(\"We can use Levenshtein Distance to compare the models:\")\n",
        "print(\"For model 1(initial model with 10 epochs), the ld is:\", ld)\n",
        "print(\"For model 2(LSTM model with 10 epochs), the ld is: \", ld2)\n",
        "print(\"For model 3(initial model with 100 epochs), the ld is: \", ld3)\n",
        "print(\"For model 4(LSTEM model with 100 epochs), the ld is: \", ld4)\n"
      ],
      "execution_count": 0,
      "outputs": [
        {
          "output_type": "stream",
          "text": [
            "We can use Levenshtein Distance to compare the models:\n",
            "For model 1(initial model with 10 epochs), the ld is: 899\n",
            "For model 2(LSTM model with 10 epochs), the ld is:  770\n",
            "For model 3(initial model with 100 epochs), the ld is:  779\n",
            "For model 4(LSTEM model with 100 epochs), the ld is:  760\n"
          ],
          "name": "stdout"
        }
      ]
    },
    {
      "cell_type": "markdown",
      "metadata": {
        "colab_type": "text",
        "id": "G0LdPRK98jcp"
      },
      "source": [
        "We can use Levenshtein Distance to compare the models:\n",
        "\n",
        "For model 1(initial model with 10 epochs), the ld is: 899\n",
        "\n",
        "For model 2(LSTM model with 10 epochs), the ld is:  770\n",
        "\n",
        "For model 3(initial model with 100 epochs), the ld is:  779\n",
        "\n",
        "For model 4(LSTEM model with 100 epochs), the ld is:  760\n",
        "\n",
        "We can see that the LSTM is better than the GRU model, and more epochs are better in comparison to fewer epochs. "
      ]
    },
    {
      "cell_type": "code",
      "metadata": {
        "colab_type": "code",
        "id": "TAysWTPI8ww6",
        "colab": {}
      },
      "source": [
        ""
      ],
      "execution_count": 0,
      "outputs": []
    }
  ]
}